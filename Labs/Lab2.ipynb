{
 "cells": [
  {
   "cell_type": "markdown",
   "id": "31b42d94-1454-472d-b00f-3c2bb50b8704",
   "metadata": {},
   "source": [
    "# Lab 2"
   ]
  },
  {
   "cell_type": "code",
   "execution_count": null,
   "id": "150c8244-7a41-4515-b5a9-1861cff63b1c",
   "metadata": {},
   "outputs": [],
   "source": [
    "import matplotlib.pyplot as plt\n",
    "import numpy as np\n",
    "import pandas as pd\n",
    "import seaborn as sns\n",
    "from scipy import stats\n",
    "from sklearn.model_selection import train_test_split"
   ]
  },
  {
   "cell_type": "markdown",
   "id": "3d6d9217-2597-4ac1-8364-9cfc6c1547df",
   "metadata": {},
   "source": [
    "## Load data"
   ]
  },
  {
   "cell_type": "code",
   "execution_count": null,
   "id": "4ec39928-f447-466a-8b4b-0af834414550",
   "metadata": {},
   "outputs": [],
   "source": [
    "spotify_song_df = pd.read_csv(\"data/Spotify_Song_Attributes.csv\")"
   ]
  },
  {
   "cell_type": "code",
   "execution_count": null,
   "id": "2e015c9d-e02e-4d9a-85ef-80b78332a361",
   "metadata": {},
   "outputs": [],
   "source": [
    "spotify_song_df.dtypes"
   ]
  },
  {
   "cell_type": "code",
   "execution_count": null,
   "id": "0fc2a1b7-2310-4b15-a381-43e413e82809",
   "metadata": {},
   "outputs": [],
   "source": [
    "spotify_song_df.info()"
   ]
  },
  {
   "cell_type": "markdown",
   "id": "952bb6a2-aa94-4e58-ace8-2358304b48a0",
   "metadata": {},
   "source": [
    "## Data Wrangling"
   ]
  },
  {
   "cell_type": "code",
   "execution_count": null,
   "id": "31879a02-c6d3-4a2f-b3c3-854167999426",
   "metadata": {},
   "outputs": [],
   "source": [
    "Z = spotify_song_df[\"energy\"].to_numpy()\n",
    "Z_mean = np.nanmean(Z)\n",
    "Z_shifted = Z - Z_mean\n",
    "\n",
    "Y = spotify_song_df[\"loudness\"].to_numpy()\n",
    "Y_mean = np.nanmean(Y)\n",
    "Y_shifted = Y - Y_mean"
   ]
  },
  {
   "cell_type": "code",
   "execution_count": null,
   "id": "af64689c-ee3e-48ad-8f9e-d1de3f5047e1",
   "metadata": {},
   "outputs": [],
   "source": [
    "plt.figure(figsize=(12, 6), dpi=100)\n",
    "sns.scatterplot(x=Z, y=Y)\n",
    "plt.title(\"Scatter Plot Energy and Loudness\")\n",
    "plt.scatter(\n",
    "    Z_mean, Y_mean, color=\"red\", s=50, marker=\"X\", label=\"Mean (Energy, Loudness)\"\n",
    ")\n",
    "plt.xlabel(\"Energy\")\n",
    "plt.ylabel(\"Loudness\")\n",
    "plt.legend()\n",
    "plt.grid(True)"
   ]
  },
  {
   "cell_type": "code",
   "execution_count": null,
   "id": "eeb17f4f-7131-45cd-a508-b7948b3e32b3",
   "metadata": {},
   "outputs": [],
   "source": [
    "plt.figure(figsize=(12, 6), dpi=100)\n",
    "sns.scatterplot(x=Z_shifted, y=Y_shifted)\n",
    "plt.title(\"Scatter Plot Energy and Loudness (Mean Shifted)\")\n",
    "plt.xlabel(\"Energy (Mean Shifted)\")\n",
    "plt.ylabel(\"Loudness (Mean Shifted)\")\n",
    "plt.grid(True)"
   ]
  },
  {
   "cell_type": "markdown",
   "id": "959491d8-96cb-4560-bc37-e7786f905b72",
   "metadata": {},
   "source": [
    "## LR\n",
    "\n",
    "### `Loudness ~ Energy` With Shifting"
   ]
  },
  {
   "cell_type": "code",
   "execution_count": null,
   "id": "851f95d9-3d43-4063-acb0-b6680e46d647",
   "metadata": {},
   "outputs": [],
   "source": [
    "energy_loudness_subset_df = spotify_song_df[[\"energy\", \"loudness\"]].dropna()"
   ]
  },
  {
   "cell_type": "code",
   "execution_count": null,
   "id": "0db14bc3-c6d3-439b-8a06-003835a81636",
   "metadata": {},
   "outputs": [],
   "source": [
    "energy_loudness_subset_df[\"energy_shifted\"] = (\n",
    "    energy_loudness_subset_df[\"energy\"] - energy_loudness_subset_df[\"energy\"].mean()\n",
    ")\n",
    "energy_loudness_subset_df[\"loudness_shifted\"] = (\n",
    "    energy_loudness_subset_df[\"loudness\"] - energy_loudness_subset_df[\"loudness\"].mean()\n",
    ")"
   ]
  },
  {
   "cell_type": "code",
   "execution_count": null,
   "id": "831590e0-81d2-4bb9-8209-5f4b6d95ce0e",
   "metadata": {},
   "outputs": [],
   "source": [
    "res_shifted = stats.linregress(\n",
    "    x=energy_loudness_subset_df[\"energy_shifted\"],\n",
    "    y=energy_loudness_subset_df[\"loudness_shifted\"],\n",
    ")\n",
    "print(res_shifted.intercept, res_shifted.slope)"
   ]
  },
  {
   "cell_type": "markdown",
   "id": "ed5d6a82-8a08-4757-81aa-3415563f81ff",
   "metadata": {},
   "source": [
    "### `Loudness ~ Energy` Without Shifting"
   ]
  },
  {
   "cell_type": "code",
   "execution_count": null,
   "id": "e11188f8-22c6-43f6-817e-3b0ef733e8f4",
   "metadata": {},
   "outputs": [],
   "source": [
    "res_not_shifted = stats.linregress(\n",
    "    x=energy_loudness_subset_df[\"energy\"],\n",
    "    y=energy_loudness_subset_df[\"loudness\"],\n",
    ")\n",
    "print(res_not_shifted.intercept, res_not_shifted.slope)"
   ]
  },
  {
   "cell_type": "markdown",
   "id": "d76bc716-0441-4d36-8c61-1288039d1d32",
   "metadata": {},
   "source": [
    "* The slope is the same after not shifting the mean.\n",
    "* But the intercepts are different. The shifted one has an intercept close to zero.\n",
    "\n",
    "### `tempo ~ acousticness` With Shifting"
   ]
  },
  {
   "cell_type": "code",
   "execution_count": null,
   "id": "55efa333-de77-4171-9efc-b5045e9403d0",
   "metadata": {},
   "outputs": [],
   "source": [
    "acousticness_tempo_df = spotify_song_df[[\"acousticness\", \"tempo\"]].dropna()\n",
    "acousticness_tempo_df[\"acousticness_shifted\"] = (\n",
    "    acousticness_tempo_df[\"acousticness\"] - acousticness_tempo_df[\"acousticness\"].mean()\n",
    ")\n",
    "acousticness_tempo_df[\"tempo_shifted\"] = (\n",
    "    acousticness_tempo_df[\"tempo\"] - acousticness_tempo_df[\"tempo\"].mean()\n",
    ")"
   ]
  },
  {
   "cell_type": "code",
   "execution_count": null,
   "id": "f6420cdb-bf2a-4130-97c5-e6bd544dd1b8",
   "metadata": {},
   "outputs": [],
   "source": [
    "res_shifted = stats.linregress(\n",
    "    x=acousticness_tempo_df[\"acousticness_shifted\"],\n",
    "    y=acousticness_tempo_df[\"tempo_shifted\"],\n",
    ")\n",
    "print(res_shifted.intercept, res_shifted.slope)"
   ]
  },
  {
   "cell_type": "markdown",
   "id": "7cd0e4d9-5302-4837-aadd-0f327871c115",
   "metadata": {},
   "source": [
    "### `tempo ~ acousticness` Without Shifting"
   ]
  },
  {
   "cell_type": "code",
   "execution_count": null,
   "id": "a7301f34-83ef-4fed-bfc5-589665c1e0e8",
   "metadata": {},
   "outputs": [],
   "source": [
    "res_shifted = stats.linregress(\n",
    "    x=acousticness_tempo_df[\"acousticness\"],\n",
    "    y=acousticness_tempo_df[\"tempo\"],\n",
    ")\n",
    "print(res_shifted.intercept, res_shifted.slope)"
   ]
  },
  {
   "cell_type": "markdown",
   "id": "8b4f6c94-8502-4e18-83d6-09267dd138f4",
   "metadata": {},
   "source": [
    "* Similarly, here, the slopes are the same but the intercepts are different.\n",
    "* The mean shifted one has an intercept closer to zero."
   ]
  },
  {
   "cell_type": "markdown",
   "id": "f50ffefd-12a3-4893-b180-693d82b1daed",
   "metadata": {},
   "source": [
    "## Splitting Data"
   ]
  },
  {
   "cell_type": "code",
   "execution_count": null,
   "id": "9cfe3dad-cf0a-4921-9a55-56635800d850",
   "metadata": {},
   "outputs": [],
   "source": [
    "Z_train, Z_test, Y_train, Y_test = train_test_split(\n",
    "    energy_loudness_subset_df[\"energy\"],\n",
    "    energy_loudness_subset_df[\"loudness\"],\n",
    "    train_size=0.33,\n",
    "    random_state=49,\n",
    ")"
   ]
  },
  {
   "cell_type": "code",
   "execution_count": null,
   "id": "b31acbc2-d427-416d-99fc-d004fefdf6f4",
   "metadata": {},
   "outputs": [],
   "source": [
    "res = stats.linregress(\n",
    "    x=Z_train,\n",
    "    y=Y_train,\n",
    ")\n",
    "print(res.intercept, res.slope)"
   ]
  },
  {
   "cell_type": "markdown",
   "id": "243a9fdb-6b79-4350-a28e-2243db99b12c",
   "metadata": {},
   "source": [
    "Splitting the data didn't change the result as the distribution didn't change."
   ]
  },
  {
   "cell_type": "code",
   "execution_count": null,
   "id": "17fe4087-013b-4809-bbda-f5e8069d4641",
   "metadata": {},
   "outputs": [],
   "source": [
    "Y_pred = res.slope * Z_test + res.intercept"
   ]
  },
  {
   "cell_type": "markdown",
   "id": "051d61f3-a956-4bf7-9e8b-25e9254a4a36",
   "metadata": {},
   "source": [
    "MSPE:"
   ]
  },
  {
   "cell_type": "code",
   "execution_count": null,
   "id": "290cff7b-819d-49ce-b903-627e75c1cd2e",
   "metadata": {},
   "outputs": [],
   "source": [
    "np.sum((Y_pred - Y_test) ** 2) / Y_pred.shape[0]"
   ]
  },
  {
   "cell_type": "code",
   "execution_count": null,
   "id": "1fcab1c9-d8ea-4a40-a54e-40d0d2e63509",
   "metadata": {},
   "outputs": [],
   "source": []
  }
 ],
 "metadata": {
  "kernelspec": {
   "display_name": "Python 3 (ipykernel)",
   "language": "python",
   "name": "python3"
  },
  "language_info": {
   "codemirror_mode": {
    "name": "ipython",
    "version": 3
   },
   "file_extension": ".py",
   "mimetype": "text/x-python",
   "name": "python",
   "nbconvert_exporter": "python",
   "pygments_lexer": "ipython3",
   "version": "3.9.18"
  }
 },
 "nbformat": 4,
 "nbformat_minor": 5
}
