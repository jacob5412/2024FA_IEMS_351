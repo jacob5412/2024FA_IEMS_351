{
 "cells": [
  {
   "cell_type": "markdown",
   "id": "e7a95411-27b4-47f4-8198-a18918a0c71b",
   "metadata": {},
   "source": [
    "# IEMS 351 Lab 4 Automatic Differentiation via Jax"
   ]
  },
  {
   "cell_type": "code",
   "execution_count": null,
   "id": "6f0186ca-3b10-4be4-8df7-23c3298ecbfb",
   "metadata": {},
   "outputs": [],
   "source": [
    "import jax.numpy as jnp\n",
    "import matplotlib.pyplot as plt\n",
    "import numpy as np\n",
    "from jax import grad, hessian, jacfwd, jacrev\n",
    "from matplotlib.patches import FancyArrowPatch"
   ]
  },
  {
   "cell_type": "markdown",
   "id": "16f5f8fd-a369-432d-948b-06f03f3d8cb6",
   "metadata": {},
   "source": [
    "## Example 1 \n",
    "Let $f:\\mathbb{R}^n \\mapsto \\mathbb{R}$:\n",
    "$$\n",
    "f(x) = \\frac{1}{2} x^\\top x,\n",
    "$$\n",
    "Let $y, d \\in \\mathbb{R}^n$ and $h: \\mathbb{R} \\mapsto \\mathbb{R}^n$:\n",
    "$$\n",
    "h(t) = y + t \\cdot d.\n",
    "$$\n",
    "Define a composition function $g(t) = f(h(t))$. "
   ]
  },
  {
   "cell_type": "code",
   "execution_count": null,
   "id": "04d3479b-9001-44ba-825f-a581c440f704",
   "metadata": {},
   "outputs": [],
   "source": [
    "# define function\n",
    "n = 4\n",
    "\n",
    "\n",
    "def f(x):\n",
    "    return 0.5 * x @ x\n",
    "\n",
    "\n",
    "#\n",
    "def h(t):\n",
    "    y = jnp.array([1.0, 1.0, 1.0, 1.0])\n",
    "    d = jnp.array([1, 2, 3, 4])\n",
    "    return x + t * d\n",
    "\n",
    "\n",
    "#\n",
    "def g(t):\n",
    "    return f(h(t))"
   ]
  },
  {
   "cell_type": "markdown",
   "id": "9a2f4957-7e90-4909-942b-00a97971abe2",
   "metadata": {},
   "source": [
    "## Compute the gradient of $f(x)$ at x = (1,1,1,1)"
   ]
  },
  {
   "cell_type": "code",
   "execution_count": null,
   "id": "aa604f69-68ab-4200-9800-e12b214ac86a",
   "metadata": {
    "scrolled": true
   },
   "outputs": [],
   "source": [
    "x = jnp.array([1.0, 1.0, 1.0, 1.0])\n",
    "grad_f = grad(f)(x)\n",
    "print(grad_f)"
   ]
  },
  {
   "cell_type": "markdown",
   "id": "c485ba2b-cdc2-45c0-85b0-8e834ab04301",
   "metadata": {},
   "source": [
    "## Compute the jacobian (transponse of gradient) of $g(t)$ at $t = 0$ "
   ]
  },
  {
   "cell_type": "code",
   "execution_count": null,
   "id": "061ce574-ee97-463d-8a73-cfd4594bbaad",
   "metadata": {},
   "outputs": [],
   "source": [
    "t = 0.0\n",
    "grad_h = jacfwd(h)(t)\n",
    "print(grad_h)"
   ]
  },
  {
   "cell_type": "markdown",
   "id": "faa732d9-4e7a-458b-be40-2b1770f15ed0",
   "metadata": {},
   "source": [
    "## Compute the gradient of $g(t) = f(h(t))$ at $t=0$ using chain rule"
   ]
  },
  {
   "cell_type": "code",
   "execution_count": null,
   "id": "c9ed279a-5563-4616-b2c5-2422cd3d776e",
   "metadata": {},
   "outputs": [],
   "source": [
    "grad_g_chain_rule = grad_h @ grad_f\n",
    "print(\"Gradient of g(t) = f(h(t)) at t=0 using chain rule: {}\".format(grad_g_chain_rule))"
   ]
  },
  {
   "cell_type": "markdown",
   "id": "93fa1ddf-1440-4d3a-bb7e-803a85798388",
   "metadata": {},
   "source": [
    "## Compute the gradient of $g(t) = f(h(t))$ at $t=0$ using JAX"
   ]
  },
  {
   "cell_type": "code",
   "execution_count": null,
   "id": "b7c631e4-ff36-4e77-87f7-1175a96348cc",
   "metadata": {},
   "outputs": [],
   "source": [
    "grad_g_jax = grad(g)(t)\n",
    "print(\"Gradient of g(t) = f(h(t)) at t=0 using JAX: {}\".format(grad_g_jax))"
   ]
  },
  {
   "cell_type": "markdown",
   "id": "89e2d733-46be-4d53-9fe8-054fd8aef938",
   "metadata": {},
   "source": [
    "## Rosenbrock Gradient"
   ]
  },
  {
   "cell_type": "code",
   "execution_count": null,
   "id": "ef73250f-221f-4aa1-82db-c15585f5642f",
   "metadata": {},
   "outputs": [],
   "source": [
    "def rosenbrock(x, a=1, b=100):\n",
    "    return (a - x[0]) ** 2 + b * (x[1] - x[0] ** 2) ** 2\n",
    "\n",
    "\n",
    "rosenbrock_grad = grad(rosenbrock)"
   ]
  },
  {
   "cell_type": "code",
   "execution_count": null,
   "id": "6f06f242-47ba-4774-9bec-91e7745c14d6",
   "metadata": {},
   "outputs": [],
   "source": [
    "# Next, let us plot the progress of gradient method\n",
    "x = np.arange(2, 15, 0.1)\n",
    "y = np.arange(-5, 20, 0.1)\n",
    "\n",
    "X, Y = np.meshgrid(x, y)\n",
    "a = 1\n",
    "b = 100\n",
    "Z = (a - X) ** 2 + b * (Y - X**2) ** 2\n",
    "\n",
    "x0 = np.array([1.5, 1.5])\n",
    "\n",
    "fig, ax = plt.subplots(1, 1)\n",
    "CS = ax.contour(X, Y, Z, 10, cmap=\"jet\", linewidths=2)\n",
    "ax.clabel(CS, inline=1, fontsize=10)\n",
    "\n",
    "# max number of iterations\n",
    "max_iterations = 100\n",
    "# reset the stepszie alpha\n",
    "alpha = 0.5\n",
    "# initialize current x\n",
    "cur_x = x0\n",
    "ax.text(cur_x[0] + 0.1, cur_x[1] + 0.1, r\"$x^0$\")\n",
    "ax.plot(cur_x[0], cur_x[1], \"or\", markersize=4)\n",
    "for i in range(max_iterations):\n",
    "    cur_grad = rosenbrock_grad(jnp.array(cur_x))  # Compute gradient\n",
    "    # Update step\n",
    "    next_x = cur_x - alpha * cur_grad\n",
    "\n",
    "    # Plot the arrow showing the step\n",
    "    arrow = FancyArrowPatch(\n",
    "        tuple(cur_x),  # Convert points to tuples\n",
    "        tuple(next_x),\n",
    "        arrowstyle=\"simple\",\n",
    "        color=\"k\",\n",
    "        mutation_scale=5,\n",
    "    )\n",
    "    ax.add_patch(arrow)\n",
    "    ax.plot(next_x[0], next_x[1], \"or\", markersize=4)\n",
    "    ax.text(next_x[0] + 0.1, next_x[1] + 0.1, r\"$x^{}$\".format(i + 1))\n",
    "\n",
    "    # Update current point\n",
    "    cur_x = next_x\n",
    "\n",
    "ax.set_xlabel(\"x\")\n",
    "ax.set_ylabel(\"y\")\n",
    "plt.show()"
   ]
  },
  {
   "cell_type": "code",
   "execution_count": null,
   "id": "72ad6b22-5851-4ff6-937a-d8dd8a6529b7",
   "metadata": {},
   "outputs": [],
   "source": []
  },
  {
   "cell_type": "code",
   "execution_count": null,
   "id": "a2d62652-db12-45bf-90bf-75b58a6c8152",
   "metadata": {},
   "outputs": [],
   "source": []
  }
 ],
 "metadata": {
  "kernelspec": {
   "display_name": "Python 3 (ipykernel)",
   "language": "python",
   "name": "python3"
  },
  "language_info": {
   "codemirror_mode": {
    "name": "ipython",
    "version": 3
   },
   "file_extension": ".py",
   "mimetype": "text/x-python",
   "name": "python",
   "nbconvert_exporter": "python",
   "pygments_lexer": "ipython3",
   "version": "3.9.18"
  }
 },
 "nbformat": 4,
 "nbformat_minor": 5
}
