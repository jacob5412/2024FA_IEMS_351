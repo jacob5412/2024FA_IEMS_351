{
 "cells": [
  {
   "cell_type": "markdown",
   "metadata": {
    "id": "IwgDkXE9yIMM"
   },
   "source": [
    "# Lab 1\n",
    "\n",
    "Plotting basic functions."
   ]
  },
  {
   "cell_type": "code",
   "execution_count": null,
   "metadata": {
    "id": "aBrAqTrhyLGw"
   },
   "outputs": [],
   "source": [
    "import numpy as np\n",
    "import pandas as pd\n",
    "from plot_utils.sns_plot_utils import plot_func_sns"
   ]
  },
  {
   "cell_type": "markdown",
   "metadata": {
    "id": "srRVuwiD0FML"
   },
   "source": [
    "## $f(x) = e^x $"
   ]
  },
  {
   "cell_type": "code",
   "execution_count": null,
   "metadata": {
    "colab": {
     "base_uri": "https://localhost:8080/",
     "height": 566
    },
    "id": "zMol3CNByiQj",
    "outputId": "156786ad-71ed-4af3-b2ec-3111f50bf79b"
   },
   "outputs": [],
   "source": [
    "x = np.linspace(-5, 5, 100)\n",
    "y = np.exp(x)\n",
    "\n",
    "plot_df = pd.DataFrame({\"x\": x, \"y\": y})\n",
    "\n",
    "plot_func_sns(plot_df, func=\"e^x\")"
   ]
  },
  {
   "cell_type": "markdown",
   "metadata": {
    "id": "8DReHyJ20L3M"
   },
   "source": [
    "## $f(x) = x^2$"
   ]
  },
  {
   "cell_type": "code",
   "execution_count": null,
   "metadata": {
    "colab": {
     "base_uri": "https://localhost:8080/",
     "height": 568
    },
    "id": "Z7GNM4C2z-Xx",
    "outputId": "f5481c4f-3a41-422a-e588-316a3bd54ac1"
   },
   "outputs": [],
   "source": [
    "x = np.linspace(-5, 5, 100)\n",
    "y = np.power(x, 2)\n",
    "\n",
    "plot_df = pd.DataFrame({\"x\": x, \"y\": y})\n",
    "\n",
    "plot_func_sns(plot_df, func=\"x^2\")"
   ]
  },
  {
   "cell_type": "markdown",
   "metadata": {
    "id": "NYvo0U9W0dE9"
   },
   "source": [
    "## $f(x) = \\sin(\\frac{1}{x})$"
   ]
  },
  {
   "cell_type": "code",
   "execution_count": null,
   "metadata": {
    "colab": {
     "base_uri": "https://localhost:8080/",
     "height": 566
    },
    "id": "fUuB5yoS0kYd",
    "outputId": "79f92c2b-0c37-4373-e290-99a0aa30c122"
   },
   "outputs": [],
   "source": [
    "x = np.linspace(0.01, 2, 100)\n",
    "y = np.sin(x)\n",
    "\n",
    "plot_df = pd.DataFrame({\"x\": x, \"y\": y})\n",
    "\n",
    "plot_func_sns(plot_df, func=\"sin(1/x)\")"
   ]
  },
  {
   "cell_type": "markdown",
   "metadata": {
    "id": "zHEMV3Id051y"
   },
   "source": [
    "## $f(x) = |x|$"
   ]
  },
  {
   "cell_type": "code",
   "execution_count": null,
   "metadata": {
    "colab": {
     "base_uri": "https://localhost:8080/",
     "height": 566
    },
    "id": "-iXgvidU0xRX",
    "outputId": "ee9def14-cbd7-482d-a368-923b68ce34b2"
   },
   "outputs": [],
   "source": [
    "x = np.linspace(-1, 1, 100)\n",
    "y = np.abs(x)\n",
    "\n",
    "plot_df = pd.DataFrame({\"x\": x, \"y\": y})\n",
    "\n",
    "plot_func_sns(plot_df, func=\"|x|\")"
   ]
  },
  {
   "cell_type": "markdown",
   "metadata": {
    "id": "IF7VGMRR1GqV"
   },
   "source": [
    "## $f(x) = \\max(-x, x)$"
   ]
  },
  {
   "cell_type": "code",
   "execution_count": null,
   "metadata": {
    "colab": {
     "base_uri": "https://localhost:8080/",
     "height": 566
    },
    "id": "TB0VAeuf1DCb",
    "outputId": "c9bc1f72-acb4-40eb-d4c9-303f439bc191"
   },
   "outputs": [],
   "source": [
    "x = np.linspace(-1, 1, 1000)\n",
    "y = np.max(np.array([x, -x]), axis=0)\n",
    "\n",
    "plot_df = pd.DataFrame({\"x\": x, \"y\": y})\n",
    "\n",
    "plot_func_sns(plot_df, func=\"max(-x, x)\")"
   ]
  },
  {
   "cell_type": "markdown",
   "metadata": {
    "id": "Zy4qizTV11Yq"
   },
   "source": [
    "## $f(x) = \\max(-x, x) - 0.2x^2$"
   ]
  },
  {
   "cell_type": "code",
   "execution_count": null,
   "metadata": {
    "colab": {
     "base_uri": "https://localhost:8080/",
     "height": 568
    },
    "id": "Eyh1qDD61vn2",
    "outputId": "682fbd90-13bb-4d66-fce7-d268923ff914"
   },
   "outputs": [],
   "source": [
    "x = np.linspace(-4, 4, 1000)\n",
    "y = np.max(np.array([x, -x]), axis=0) - (0.2 * x**2)\n",
    "\n",
    "plot_df = pd.DataFrame({\"x\": x, \"y\": y})\n",
    "\n",
    "plot_func_sns(plot_df, func=\"max(-x, x) - 0.2x^2\")"
   ]
  },
  {
   "cell_type": "code",
   "execution_count": null,
   "metadata": {
    "id": "y9AyTYtx19iL"
   },
   "outputs": [],
   "source": []
  }
 ],
 "metadata": {
  "colab": {
   "provenance": []
  },
  "kernelspec": {
   "display_name": "Python 3 (ipykernel)",
   "language": "python",
   "name": "python3"
  },
  "language_info": {
   "codemirror_mode": {
    "name": "ipython",
    "version": 3
   },
   "file_extension": ".py",
   "mimetype": "text/x-python",
   "name": "python",
   "nbconvert_exporter": "python",
   "pygments_lexer": "ipython3",
   "version": "3.9.18"
  }
 },
 "nbformat": 4,
 "nbformat_minor": 4
}
