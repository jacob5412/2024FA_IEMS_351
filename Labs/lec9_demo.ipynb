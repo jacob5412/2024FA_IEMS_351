{
 "cells": [
  {
   "cell_type": "markdown",
   "id": "34577138-31b4-4920-b006-c9f8b57ce53e",
   "metadata": {},
   "source": [
    "## Compute the eigenvalues and eigenvectors of a square matrix "
   ]
  },
  {
   "cell_type": "code",
   "execution_count": null,
   "id": "a768ea70-ae8f-4d86-8290-a5d76b2c3981",
   "metadata": {},
   "outputs": [],
   "source": [
    "import numpy as np "
   ]
  },
  {
   "cell_type": "code",
   "execution_count": null,
   "id": "10acd1e6-d0bc-4073-8cc8-65121a5d45fe",
   "metadata": {},
   "outputs": [],
   "source": [
    "A = np.array([[4,1], [1,2]])\n",
    "print(A)"
   ]
  },
  {
   "cell_type": "code",
   "execution_count": null,
   "id": "b73fbe22-2a02-4000-b5a5-7e0954a2b916",
   "metadata": {},
   "outputs": [],
   "source": [
    "eigenvalues, eigenvectors = np.linalg.eig(A)\n",
    "print(eigenvalues)\n",
    "print(eigenvectors)"
   ]
  },
  {
   "cell_type": "code",
   "execution_count": null,
   "id": "033d1749-6810-44c4-ab52-38992835e165",
   "metadata": {},
   "outputs": [],
   "source": [
    "print(\"The first eigenvalue of A is : {}\".format(eigenvalues[0]))\n",
    "print(\"Its eigenvector is : \")\n",
    "print(eigenvectors[:,0])"
   ]
  },
  {
   "cell_type": "code",
   "execution_count": null,
   "id": "0203d488-9c77-4e6d-aa12-567ecf3caa02",
   "metadata": {},
   "outputs": [],
   "source": [
    "print(\"The second eigenvalue of A is : {}\".format(eigenvalues[1]))\n",
    "print(\"Its eigenvector is : \")\n",
    "print(eigenvectors[:,1])"
   ]
  },
  {
   "cell_type": "markdown",
   "id": "4f77c0d4-f18a-4ecf-90ca-dbf1f5fb7281",
   "metadata": {},
   "source": [
    "## Generate a random matrix"
   ]
  },
  {
   "cell_type": "code",
   "execution_count": null,
   "id": "b725e54d-b432-445d-8a15-49ca2d320a8b",
   "metadata": {},
   "outputs": [],
   "source": [
    "# set the random seed\n",
    "random_seed = 2003200449\n",
    "rng = np.random.default_rng(random_seed)"
   ]
  },
  {
   "cell_type": "code",
   "execution_count": null,
   "id": "5e375d4e-70cb-435e-8943-e14122804bee",
   "metadata": {},
   "outputs": [],
   "source": [
    "m = 20\n",
    "n = 5\n",
    "Z = rng.uniform(size=(m, n))\n",
    "#print(Z)\n",
    "B = np.transpose(Z) @ Z \n",
    "print(B)"
   ]
  },
  {
   "cell_type": "code",
   "execution_count": null,
   "id": "b418656b-94b9-4904-b78c-5be088f6adab",
   "metadata": {},
   "outputs": [],
   "source": [
    "eigenvalues, eigenvectors = np.linalg.eig(B)\n",
    "print(eigenvalues)"
   ]
  },
  {
   "cell_type": "markdown",
   "id": "66b94af5-0713-438d-9703-c54000b5d317",
   "metadata": {},
   "source": [
    "## Gradient Field"
   ]
  },
  {
   "cell_type": "code",
   "execution_count": null,
   "id": "e2e160b2-4442-430c-81a2-27b354683714",
   "metadata": {},
   "outputs": [],
   "source": [
    "import matplotlib.pyplot as plt"
   ]
  },
  {
   "cell_type": "code",
   "execution_count": null,
   "id": "82bb0599-309b-450b-8738-33db87a89c1d",
   "metadata": {},
   "outputs": [],
   "source": [
    "x = np.linspace(-50, 50, 50)\n",
    "y = np.linspace(-50, 50, 50)\n",
    "\n",
    "X, Y = np.meshgrid(x, y)\n",
    "Z = X * X + Y * Y\n",
    "\n",
    "# gradient\n",
    "U = 2 * X\n",
    "V = 2 * Y\n",
    "\n",
    "# Normalize all gradients to focus on the direction not the magnitude\n",
    "norm = np.linalg.norm(np.array((U, V)), axis=0)\n",
    "U = U / norm\n",
    "V = V / norm\n",
    "\n",
    "CS = plt.contour(X, Y, Z, 10, cmap='jet', linewidths=2)\n",
    "plt.clabel(CS, inline=1, fontsize=10)\n",
    "plt.quiver(X, Y, U, V, units='xy', scale=0.5, color='gray')\n",
    "plt.xlabel(\"x\")\n",
    "plt.ylabel(\"y\")\n",
    "plt.show()"
   ]
  },
  {
   "cell_type": "code",
   "execution_count": null,
   "id": "ad6174c1-fe04-435f-be6c-d87a1740a818",
   "metadata": {},
   "outputs": [],
   "source": [
    "scale_factor = 0.4\n",
    "x = np.arange(-5, 5, 0.1)\n",
    "y = np.arange(-5, 5, 0.1)\n",
    "\n",
    "x2 = np.arange(-5, 5, 1)\n",
    "y2 = np.arange(-5, 5, 1)\n",
    "X, Y = np.meshgrid(x, y)\n",
    "X2, Y2 = np.meshgrid(x2, y2)\n",
    "Z = X * X * np.sin(Y) + Y * np.cos(X)\n",
    "\n",
    "# gradient\n",
    "U = 2 * X2 * np.sin(Y2) - Y2 * np.sin(X2)\n",
    "V = X2 * X2 * np.cos(Y2) + np.cos(X2)\n",
    "\n",
    "# Normalize all gradients to focus on the direction not the magnitude\n",
    "norm = np.linalg.norm(np.array((U, V)), axis=0)\n",
    "U = U / norm * scale_factor\n",
    "V = V / norm * scale_factor\n",
    "\n",
    "CS = plt.contour(X, Y, Z, 10, cmap='jet', linewidths=2)\n",
    "plt.clabel(CS, inline=1, fontsize=10)\n",
    "plt.quiver(X2, Y2, U, V, units='xy', scale=0.5, color='gray')\n",
    "plt.xlabel(\"x\")\n",
    "plt.ylabel(\"y\")\n",
    "plt.show()"
   ]
  },
  {
   "cell_type": "code",
   "execution_count": null,
   "id": "cc81c1b3-7371-43d8-8d16-13a96a23b3ea",
   "metadata": {},
   "outputs": [],
   "source": []
  }
 ],
 "metadata": {
  "kernelspec": {
   "display_name": "Python 3 (ipykernel)",
   "language": "python",
   "name": "python3"
  },
  "language_info": {
   "codemirror_mode": {
    "name": "ipython",
    "version": 3
   },
   "file_extension": ".py",
   "mimetype": "text/x-python",
   "name": "python",
   "nbconvert_exporter": "python",
   "pygments_lexer": "ipython3",
   "version": "3.9.18"
  }
 },
 "nbformat": 4,
 "nbformat_minor": 5
}
