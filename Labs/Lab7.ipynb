{
 "cells": [
  {
   "cell_type": "markdown",
   "id": "714b8c2f-070f-475f-b00c-fe4f2bfa3b49",
   "metadata": {},
   "source": [
    "# IEMS 351 Lab \n",
    "# Solving Constrained Quadratic Programming Problems via cyipopt\n",
    "\n",
    "IPOPT, short for \"Interior Point OPTimizer, pronounced I-P-Opt\", is a software library for large scale nonlinear optimization of continuous systems. \n",
    "IPOPT was originally developed by Andreas Wächter and Lorenz T. Biegler of the Department of Chemical Engineering at Carnegie Mellon University. Their work was recognized with the INFORMS Computing Society Prize in 2009.\n",
    "\n",
    "(Reference: https://en.wikipedia.org/wiki/IPOPT#:~:text=IPOPT%2C%20short%20for%20%22Interior%20Point,August%2026%2C%202005)\n",
    "\n",
    "cyipopt is a Python wrapper for the Ipopt optimization package, written in Cython.\n",
    "\n",
    "(Reference: https://cyipopt.readthedocs.io/en/stable/)\n"
   ]
  },
  {
   "cell_type": "markdown",
   "id": "6f777c1d-cde6-4980-b06c-303465ffa310",
   "metadata": {},
   "source": [
    "In this lab, please creae a new conda environment because there may be some dependency issues while installing cyipopt. \n",
    "## Create a new conda environemnt\n",
    "conda create --name <env_name>\n",
    "## Install cyipopt\n",
    "conda install -c conda-forge cyipopt\n",
    "## Install other necessary packages \n",
    "pip install matplotlib\n",
    "\n",
    "pip install jupyterlab\n",
    "\n",
    "pip install scipy\n",
    "\n",
    "References: https://cyipopt.readthedocs.io/en/stable/tutorial.html"
   ]
  },
  {
   "cell_type": "markdown",
   "id": "515a7948-2e8d-48ee-ae52-24fc07d2fedc",
   "metadata": {},
   "source": [
    "## Exercise 1: Test on cyipopt "
   ]
  },
  {
   "cell_type": "code",
   "execution_count": null,
   "id": "f6d230cb-3e05-488a-9679-94b88e67e441",
   "metadata": {},
   "outputs": [],
   "source": [
    "import cyipopt\n",
    "import numpy as np\n",
    "from cyipopt import minimize_ipopt\n",
    "from scipy.optimize import rosen, rosen_der"
   ]
  },
  {
   "cell_type": "code",
   "execution_count": null,
   "id": "bba86d63-0afa-4179-a517-feadc76f4d5a",
   "metadata": {},
   "outputs": [],
   "source": [
    "x0 = [1.3, 0.7, 0.8, 1.9, 1.2]\n",
    "res = minimize_ipopt(rosen, x0, jac=rosen_der)\n",
    "print(res)"
   ]
  },
  {
   "cell_type": "markdown",
   "id": "8cf53ebb-9f3f-4fba-8ae0-39738f99e38f",
   "metadata": {},
   "source": [
    "## Exercise 2: Quadratic Programming Problems with Linear Constraints  \n",
    "$$\n",
    "\\begin{aligned}\n",
    "\\min \\ & d + g^\\top x + x^\\top Q x \\\\\n",
    "\\text{s.t.} \\ C_L & \\leq A x \\leq C_U \\\\\n",
    "& x_L \\leq x \\leq x_U\n",
    "\\end{aligned}\n",
    "$$"
   ]
  },
  {
   "cell_type": "code",
   "execution_count": null,
   "id": "de5da7f6-8da8-4c32-b208-000dbf4a7418",
   "metadata": {},
   "outputs": [],
   "source": [
    "class QP_solver(cyipopt.Problem):\n",
    "    def set_problem_param(self, d, g, Q, A):\n",
    "        self._d = d\n",
    "        self._g = g\n",
    "        self._Q = Q\n",
    "        self._A = A\n",
    "        self._dim = len(g)\n",
    "        self._jacobian = np.concatenate(A)\n",
    "        self._hessian = 2 * Q\n",
    "        self._hessianstructure = np.nonzero(np.tril(np.ones((self._dim, self._dim))))\n",
    "\n",
    "    def objective(self, x):\n",
    "        \"\"\"Returns the scalar value of the objective given x.\"\"\"\n",
    "        return self._d + self._g @ x + x @ self._Q @ x\n",
    "\n",
    "    def gradient(self, x):\n",
    "        \"\"\"Returns the gradient of the objective with respect to x.\"\"\"\n",
    "        return self._g + 2 * self._Q @ x\n",
    "\n",
    "    def constraints(self, x):\n",
    "        \"\"\"Returns the constraints.\"\"\"\n",
    "\n",
    "        return self._A @ x\n",
    "\n",
    "    def jacobian(self, x):\n",
    "        \"\"\"Returns the Jacobian of the constraints with respect to x.\"\"\"\n",
    "        return self._jacobian\n",
    "\n",
    "    # def hessianstructure(self):\n",
    "    #    \"\"\"Returns the row and column indices for non-zero vales of the\n",
    "    #    Hessian.\"\"\"\n",
    "\n",
    "    # NOTE: The default hessian structure is of a lower triangular matrix,\n",
    "    # therefore this function is redundant. It is included as an example\n",
    "    # for structure callback.\n",
    "\n",
    "    #    return np.nonzero(np.tril(np.ones((self._dim , self._dim))))\n",
    "\n",
    "    def hessian(self, x, lagrange, obj_factor):\n",
    "        \"\"\"Returns the non-zero values of the Hessian.\"\"\"\n",
    "\n",
    "        row, col = self._hessianstructure\n",
    "\n",
    "        return obj_factor * self._hessian[row, col]\n",
    "\n",
    "    def intermediate(\n",
    "        self,\n",
    "        alg_mod,\n",
    "        iter_count,\n",
    "        obj_value,\n",
    "        inf_pr,\n",
    "        inf_du,\n",
    "        mu,\n",
    "        d_norm,\n",
    "        regularization_size,\n",
    "        alpha_du,\n",
    "        alpha_pr,\n",
    "        ls_trials,\n",
    "    ):\n",
    "        \"\"\"Prints information at every Ipopt iteration.\"\"\"\n",
    "\n",
    "        msg = \"Objective value at iteration #{:d} is - {:g}\"\n",
    "\n",
    "        print(msg.format(iter_count, obj_value))"
   ]
  },
  {
   "cell_type": "markdown",
   "id": "c9a72590-c886-4238-a55a-abf55c6f7912",
   "metadata": {},
   "source": [
    "## Projection Problem \n",
    "$$\n",
    "\\min_{x \\in X} \\frac{1}{2} \\|x - y \\|^2\n",
    "$$\n"
   ]
  },
  {
   "cell_type": "markdown",
   "id": "05eef635-8451-41ce-8391-98d3a4234d26",
   "metadata": {},
   "source": [
    "## Problem 1 \n",
    "$$\n",
    "\\begin{aligned}\n",
    "\\min \\ & 0.5 x_1^2 + 0.5 x_2^2 \\\\\n",
    "\\text{s.t.} \\ & -x_1 - x_2 \\leq -1\n",
    "\\end{aligned}\n",
    "$$\n",
    "\n",
    "It is equivalent to project the origin $(0,0)$ onto the convex set $X = \\{x \\in \\mathbb{R}^2: x_1 + x_2 \\geq 1 \\}$. "
   ]
  },
  {
   "cell_type": "code",
   "execution_count": null,
   "id": "fe9336ee-a341-416d-92a0-38af6ee4aef8",
   "metadata": {},
   "outputs": [],
   "source": [
    "lb = [-2.0e19, -2.0e19]\n",
    "ub = [2.0e19, 2.0e19]\n",
    "cl = [-2.0e19]\n",
    "cu = [-1]\n",
    "d = 0\n",
    "g = np.array([0, 0])\n",
    "Q = np.array([[0.5, 0], [0, 0.5]])\n",
    "A = np.array([[-1, -1]])\n",
    "\n",
    "x0 = [1, 0]\n",
    "\n",
    "nlp_qp_solver = QP_solver(\n",
    "    n=len(x0),\n",
    "    m=len(cl),\n",
    "    lb=lb,\n",
    "    ub=ub,\n",
    "    cl=cl,\n",
    "    cu=cu,\n",
    ")\n",
    "nlp_qp_solver.set_problem_param(d, g, Q, A)"
   ]
  },
  {
   "cell_type": "code",
   "execution_count": null,
   "id": "2d2ccd45-cccf-45f7-a3de-382eafc61f3c",
   "metadata": {},
   "outputs": [],
   "source": [
    "x, info = nlp_qp_solver.solve(x0)"
   ]
  },
  {
   "cell_type": "code",
   "execution_count": null,
   "id": "a494dd08-95cf-49ef-9088-af6dd3155fec",
   "metadata": {},
   "outputs": [],
   "source": [
    "print(\"The optimal solution of Problem 1:\")\n",
    "print(x)"
   ]
  },
  {
   "cell_type": "markdown",
   "id": "2dd3a01b-ae46-45ad-961f-d25df002fc6d",
   "metadata": {},
   "source": [
    "## Problem 2\n",
    "Projecting a point $y$ onto $X = \\{x \\in \\mathbb{R}^2: -x_1 + x_2 \\leq 1, \\ x_1 - x_2 \\leq 1, \\ 0 \\leq x_1 \\leq 2, \\ 0 \\leq x_2 \\leq 3 \\}$ can be formulated as the following problem: \n",
    "$$\n",
    "\\begin{aligned}\n",
    "\\min \\ & 0.5 x_1^2 + 0.5 x_2^2 - y_1 x_1 - y_2 x_2 \\\\\n",
    "\\text{s.t.} \\ & -x_1 + x_2 \\leq 1 \\\\\n",
    "&  x_1 - x_2 \\leq 1 \\\\\n",
    "& 0 \\leq x_1 \\leq 2 \\\\\n",
    "& 0 \\leq x_2 \\leq 3.\n",
    "\\end{aligned}\n",
    "$$"
   ]
  },
  {
   "cell_type": "code",
   "execution_count": null,
   "id": "0327f60f-97f6-491b-9645-e087b73067fd",
   "metadata": {},
   "outputs": [],
   "source": [
    "# given y = (0,2)\n",
    "y = np.array([0, 2])\n",
    "\n",
    "lb = [0, 0]\n",
    "ub = [2, 3]\n",
    "cl = [-2.0e19, -2.0e19]\n",
    "cu = [1, 1]\n",
    "d = 0\n",
    "g = -y\n",
    "Q = np.array([[0.5, 0], [0, 0.5]])\n",
    "A = np.array([[-1, 1], [1, -1]])\n",
    "\n",
    "nlp_qp2_solver = QP_solver(\n",
    "    n=len(x0),\n",
    "    m=len(cl),\n",
    "    lb=lb,\n",
    "    ub=ub,\n",
    "    cl=cl,\n",
    "    cu=cu,\n",
    ")\n",
    "nlp_qp2_solver.set_problem_param(d, g, Q, A)"
   ]
  },
  {
   "cell_type": "code",
   "execution_count": null,
   "id": "e966c119-9424-422f-8b39-61876040fac4",
   "metadata": {},
   "outputs": [],
   "source": [
    "x, info = nlp_qp2_solver.solve(x0)"
   ]
  },
  {
   "cell_type": "code",
   "execution_count": null,
   "id": "1b1148d9-57a2-4abf-8ec2-ec0fc28ab98c",
   "metadata": {},
   "outputs": [],
   "source": [
    "print(\"The optimal solution of Problem 2:\")\n",
    "print(x)"
   ]
  },
  {
   "cell_type": "markdown",
   "id": "c96c92ec-93c8-4734-a680-1f6f550d5ab9",
   "metadata": {},
   "source": [
    "## Problem 3 \n",
    "$$\n",
    "\\begin{aligned}\n",
    "    \\min \\ & 2 x_1^2 + x_2^2 + x_1 x_2 + x_1 + x_2 \\\\\n",
    "    \\text{s.t.} \\ & x_1 + x_2 = 1 \\\\\n",
    "                  & x_1  \\geq 0, \\ x_2 \\geq 0\n",
    "\\end{aligned}\n",
    "$$"
   ]
  },
  {
   "cell_type": "code",
   "execution_count": null,
   "id": "34362305-65f7-4a75-8ce3-397befc24ee9",
   "metadata": {},
   "outputs": [],
   "source": [
    "lb = [0, 0]\n",
    "ub = [1e10, 1e10]\n",
    "cl = [1]\n",
    "cu = [1]\n",
    "d = 0\n",
    "g = np.array([1, 1])\n",
    "Q = np.array([[2, 0.5], [0.5, 1]])\n",
    "A = np.array([[1, 1]])\n",
    "\n",
    "nlp_qp2_solver = QP_solver(\n",
    "    n=len(x0),\n",
    "    m=len(cl),\n",
    "    lb=lb,\n",
    "    ub=ub,\n",
    "    cl=cl,\n",
    "    cu=cu,\n",
    ")\n",
    "nlp_qp2_solver.set_problem_param(d, g, Q, A)"
   ]
  },
  {
   "cell_type": "code",
   "execution_count": null,
   "id": "47371368-a21a-418e-a5d7-c65723486129",
   "metadata": {},
   "outputs": [],
   "source": [
    "x0 = [0, 0]\n",
    "x, info = nlp_qp2_solver.solve(x0)"
   ]
  },
  {
   "cell_type": "code",
   "execution_count": null,
   "id": "a160e500-a3a7-4ae2-adbb-3e0f90be214b",
   "metadata": {},
   "outputs": [],
   "source": [
    "print(\"The optimal solution of Problem 2:\")\n",
    "print(x)"
   ]
  },
  {
   "cell_type": "markdown",
   "id": "77f8b0d1-ad75-485e-98b0-34c791b5c3d9",
   "metadata": {},
   "source": [
    "# Exercise 3: A Constrained Nonlinear Optimization Problem \n",
    "$$\n",
    "\\begin{aligned}\n",
    "\\min_{x \\in \\mathbb{R}^4} \\ &x_1 x_4 (x_1 + x_2 + x_3) + x_3 \\\\\n",
    "\\text{s.t.} \\ & x_1 x_2 x_3 x_4 \\geq 25 \\\\\n",
    "& x_1^2 + x_2^2 + x_3^2 + x_4^2 = 40 \\\\\n",
    "&1 \\leq x_1, x_2, x_3, x_4 \\leq 5.\n",
    "\\end{aligned}\n",
    "$$\n",
    "\n",
    "The optimal solution is $x^* = (1.0, 4.743, 3.821, 1.379)$"
   ]
  },
  {
   "cell_type": "code",
   "execution_count": null,
   "id": "0ca0af6a-806a-4a4e-9ef4-53383ebbdab7",
   "metadata": {},
   "outputs": [],
   "source": [
    "class HS071(cyipopt.Problem):\n",
    "\n",
    "    def objective(self, x):\n",
    "        \"\"\"Returns the scalar value of the objective given x.\"\"\"\n",
    "        return x[0] * x[3] * np.sum(x[0:3]) + x[2]\n",
    "\n",
    "    def gradient(self, x):\n",
    "        \"\"\"Returns the gradient of the objective with respect to x.\"\"\"\n",
    "        return np.array(\n",
    "            [\n",
    "                x[0] * x[3] + x[3] * np.sum(x[0:3]),\n",
    "                x[0] * x[3],\n",
    "                x[0] * x[3] + 1.0,\n",
    "                x[0] * np.sum(x[0:3]),\n",
    "            ]\n",
    "        )\n",
    "\n",
    "    def constraints(self, x):\n",
    "        \"\"\"Returns the constraints.\"\"\"\n",
    "        return np.array((np.prod(x), np.dot(x, x)))\n",
    "\n",
    "    def jacobian(self, x):\n",
    "        \"\"\"Returns the Jacobian of the constraints with respect to x.\"\"\"\n",
    "        return np.concatenate((np.prod(x) / x, 2 * x))\n",
    "\n",
    "    def hessianstructure(self):\n",
    "        \"\"\"Returns the row and column indices for non-zero vales of the\n",
    "        Hessian.\"\"\"\n",
    "\n",
    "        # NOTE: The default hessian structure is of a lower triangular matrix,\n",
    "        # therefore this function is redundant. It is included as an example\n",
    "        # for structure callback.\n",
    "\n",
    "        return np.nonzero(np.tril(np.ones((4, 4))))\n",
    "\n",
    "    def hessian(self, x, lagrange, obj_factor):\n",
    "        \"\"\"Returns the non-zero values of the Hessian.\"\"\"\n",
    "\n",
    "        H = obj_factor * np.array(\n",
    "            (\n",
    "                (2 * x[3], 0, 0, 0),\n",
    "                (x[3], 0, 0, 0),\n",
    "                (x[3], 0, 0, 0),\n",
    "                (2 * x[0] + x[1] + x[2], x[0], x[0], 0),\n",
    "            )\n",
    "        )\n",
    "\n",
    "        H += lagrange[0] * np.array(\n",
    "            (\n",
    "                (0, 0, 0, 0),\n",
    "                (x[2] * x[3], 0, 0, 0),\n",
    "                (x[1] * x[3], x[0] * x[3], 0, 0),\n",
    "                (x[1] * x[2], x[0] * x[2], x[0] * x[1], 0),\n",
    "            )\n",
    "        )\n",
    "\n",
    "        H += lagrange[1] * 2 * np.eye(4)\n",
    "\n",
    "        row, col = self.hessianstructure()\n",
    "\n",
    "        return H[row, col]\n",
    "\n",
    "    def intermediate(\n",
    "        self,\n",
    "        alg_mod,\n",
    "        iter_count,\n",
    "        obj_value,\n",
    "        inf_pr,\n",
    "        inf_du,\n",
    "        mu,\n",
    "        d_norm,\n",
    "        regularization_size,\n",
    "        alpha_du,\n",
    "        alpha_pr,\n",
    "        ls_trials,\n",
    "    ):\n",
    "        \"\"\"Prints information at every Ipopt iteration.\"\"\"\n",
    "        iterate = self.get_current_iterate()\n",
    "        infeas = self.get_current_violations()\n",
    "        primal = iterate[\"x\"]\n",
    "        jac = self.jacobian(primal)\n",
    "\n",
    "        print(\"Iteration:\", iter_count)\n",
    "        print(\"Primal iterate:\", primal)\n",
    "        print(\"Flattened Jacobian:\", jac)\n",
    "        print(\"Dual infeasibility:\", infeas[\"grad_lag_x\"])"
   ]
  },
  {
   "cell_type": "code",
   "execution_count": null,
   "id": "0b96240c-1fac-40db-9536-eae771164d77",
   "metadata": {},
   "outputs": [],
   "source": [
    "lb = [1.0, 1.0, 1.0, 1.0]\n",
    "ub = [5.0, 5.0, 5.0, 5.0]\n",
    "\n",
    "cl = [25.0, 40.0]\n",
    "cu = [2.0e19, 40.0]\n",
    "\n",
    "x0 = [1.0, 5.0, 5.0, 1.0]\n",
    "\n",
    "nlp = HS071(\n",
    "    n=len(x0),\n",
    "    m=len(cl),\n",
    "    lb=lb,\n",
    "    ub=ub,\n",
    "    cl=cl,\n",
    "    cu=cu,\n",
    ")\n",
    "\n",
    "x, info = nlp.solve(x0)"
   ]
  },
  {
   "cell_type": "code",
   "execution_count": null,
   "id": "ef51baaf-0502-425e-9d24-40676ba05644",
   "metadata": {},
   "outputs": [],
   "source": [
    "print(x)"
   ]
  },
  {
   "cell_type": "markdown",
   "id": "f070a761-cdf3-4178-954d-30ec0b097c83",
   "metadata": {},
   "source": [
    "## Further Readings \n",
    "https://cyipopt.readthedocs.io/en/stable/tutorial.html\n",
    "\n",
    "https://cyipopt.readthedocs.io/en/stable/reference.html#reference\n",
    "\n",
    "https://link.springer.com/article/10.1007/S10107-004-0559-Y"
   ]
  },
  {
   "cell_type": "code",
   "execution_count": null,
   "id": "a30b82d3-284e-4575-bbcd-04a043be3f4f",
   "metadata": {},
   "outputs": [],
   "source": []
  }
 ],
 "metadata": {
  "kernelspec": {
   "display_name": "Python 3 (ipykernel)",
   "language": "python",
   "name": "python3"
  },
  "language_info": {
   "codemirror_mode": {
    "name": "ipython",
    "version": 3
   },
   "file_extension": ".py",
   "mimetype": "text/x-python",
   "name": "python",
   "nbconvert_exporter": "python",
   "pygments_lexer": "ipython3",
   "version": "3.9.18"
  }
 },
 "nbformat": 4,
 "nbformat_minor": 5
}
