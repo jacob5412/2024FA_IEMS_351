{
 "cells": [
  {
   "cell_type": "markdown",
   "id": "2b3bc274-cdbd-4c49-8418-cc349b2a6590",
   "metadata": {},
   "source": [
    "# IEMS 351 Lab 6, Fall 2024\n",
    "# Finite-Difference Derivative Approximations \n",
    "References: Nocedal, Jorge, and Stephen J. Wright, eds. Numerical optimization (Second Edition). New York, NY: Springer New York, 1999. "
   ]
  },
  {
   "cell_type": "code",
   "execution_count": null,
   "id": "a47ee58b-b35b-43f5-b7eb-4ccd02706a97",
   "metadata": {},
   "outputs": [],
   "source": [
    "import matplotlib.pyplot as plt\n",
    "import numpy as np"
   ]
  },
  {
   "cell_type": "markdown",
   "id": "bbe4a3a3-f694-4d36-97af-7e8c3d1b64a7",
   "metadata": {},
   "source": [
    "##  Forward-difference \n",
    "Recall that the gradient of $f:\\mathbb{R}^n \\mapsto \\mathbb{R}$ is \n",
    "$$\n",
    "\\nabla f(x) = \\begin{bmatrix}\n",
    "\\frac{\\partial f}{\\partial x_1} \\\\\n",
    "\\vdots \\\\\n",
    "\\frac{\\partial f}{\\partial x_n}\n",
    "\\end{bmatrix}.\n",
    "$$\n",
    "The forward-difference approximation of $\\frac{\\partial f}{\\partial x_i} (x)$ is \n",
    "$$\n",
    "\\frac{\\partial f}{\\partial x_i} (x) \\approx \\frac{f(x + \\epsilon e_i) - f(x)}{\\epsilon}, \\quad i = 1,2,\\ldots,n.\n",
    "$$"
   ]
  },
  {
   "cell_type": "code",
   "execution_count": null,
   "id": "4574efb5-7cb3-4031-9818-0adbaa14d1e7",
   "metadata": {},
   "outputs": [],
   "source": [
    "def forward_difference(f, x, e, epsilon):\n",
    "    return (f(x + e * epsilon) - f(x)) / epsilon"
   ]
  },
  {
   "cell_type": "code",
   "execution_count": null,
   "id": "40f4a3b6-348d-47c9-8615-2cb4cd0603ad",
   "metadata": {},
   "outputs": [],
   "source": [
    "# Define example function and its true derivative\n",
    "def f(x):\n",
    "    return np.sin(x)\n",
    "\n",
    "\n",
    "def df(x):\n",
    "    return np.cos(x)"
   ]
  },
  {
   "cell_type": "code",
   "execution_count": null,
   "id": "10853715-f615-484d-8144-031d590363df",
   "metadata": {},
   "outputs": [],
   "source": [
    "x = 1\n",
    "epsilon = 0.000001\n",
    "e = 1\n",
    "df_estimate = forward_difference(f, x, e, epsilon)\n",
    "df_correct = df(x)\n",
    "\n",
    "print(\"Derivative of f at point x=%e with stepsize epsilon=%e:\" % (x, epsilon))\n",
    "print(\"Estimate...: %15.8e\" % df_estimate)\n",
    "print(\"Correct ...: %15.8e\" % df_correct)\n",
    "print(\"Error   ...: %15.8e\" % np.abs(df_correct - df_estimate))"
   ]
  },
  {
   "cell_type": "code",
   "execution_count": null,
   "id": "ef1f4bbc-0993-4fef-950c-0f04e4da8b7e",
   "metadata": {},
   "outputs": [],
   "source": [
    "def plot_df_error(f, df, x, smalltest_exponent=8):\n",
    "    exponents = np.arange(0, smalltest_exponent + 1)\n",
    "    epsilon = 10.0 ** (-exponents)\n",
    "    df_correct = df(x)\n",
    "    df_estimate = forward_difference(f, x, 1, epsilon)\n",
    "    df_error = np.abs(df_correct - df_estimate)\n",
    "    # print(df_error)\n",
    "\n",
    "    plt.yscale(\"log\")\n",
    "    plt.xscale(\"log\")\n",
    "    plt.plot(epsilon, df_error, \"ro\")\n",
    "\n",
    "    # plt.savefig('test.png', bbox_inches='tight')"
   ]
  },
  {
   "cell_type": "code",
   "execution_count": null,
   "id": "4610d320-0156-4ba8-a26b-5254fb50b787",
   "metadata": {},
   "outputs": [],
   "source": [
    "# log plot of error\n",
    "x = 1\n",
    "plot_df_error(f, df, x)"
   ]
  },
  {
   "cell_type": "code",
   "execution_count": null,
   "id": "ae88f022-81a4-495d-a8ad-b0fce7cd34d9",
   "metadata": {},
   "outputs": [],
   "source": [
    "x = 1\n",
    "plot_df_error(np.exp, np.exp, 1)"
   ]
  },
  {
   "cell_type": "markdown",
   "id": "2f1b5034-b53f-4abb-abcc-76d8e6b69cce",
   "metadata": {},
   "source": [
    "## Central Difference \n",
    "$$\n",
    "\\frac{\\partial f}{\\partial x_i} (x) \\approx \\frac{f(x + \\epsilon e_i) - f(x - \\epsilon e_i)}{2\\epsilon}, \\quad i = 1,2,\\ldots,n.\n",
    "$$"
   ]
  },
  {
   "cell_type": "code",
   "execution_count": null,
   "id": "dae09dbe-4189-4aea-bec6-743166be2406",
   "metadata": {},
   "outputs": [],
   "source": [
    "def central_difference(f, x, e, epsilon):\n",
    "    return (f(x + e * epsilon) - f(x - e * epsilon)) / (2 * epsilon)"
   ]
  },
  {
   "cell_type": "code",
   "execution_count": null,
   "id": "b2f02382-7eab-48e2-bea1-73cd998c49c6",
   "metadata": {},
   "outputs": [],
   "source": [
    "x = 0\n",
    "epsilon = 0.000001\n",
    "df_estimate = central_difference(f, x, 1, epsilon)\n",
    "df_correct = df(x)\n",
    "\n",
    "print(\"Derivative of f at point x=%e with stepsize epsilon=%e:\" % (x, epsilon))\n",
    "print(\"Estimate...: %15.8e\" % df_estimate)\n",
    "print(\"Correct ...: %15.8e\" % df_correct)\n",
    "print(\"Error   ...: %15.8e\" % np.abs(df_correct - df_estimate))"
   ]
  },
  {
   "cell_type": "code",
   "execution_count": null,
   "id": "aa228d3e-2337-46c3-b292-73fb6a0492cf",
   "metadata": {},
   "outputs": [],
   "source": [
    "def plot_df_error_central(f, df, x, smalltest_exponent=5):\n",
    "    exponents = np.arange(0, smalltest_exponent + 1)\n",
    "    epsilon = 10.0 ** (-exponents)\n",
    "    df_correct = df(x)\n",
    "    df_estimate = central_difference(f, x, 1, epsilon)\n",
    "    df_error = np.abs(df_correct - df_estimate)\n",
    "    # print(df_error)\n",
    "\n",
    "    plt.yscale(\"log\")\n",
    "    plt.xscale(\"log\")\n",
    "    plt.plot(epsilon, df_error, \"ro\")\n",
    "    # plt.savefig('test.png', bbox_inches='tight')"
   ]
  },
  {
   "cell_type": "code",
   "execution_count": null,
   "id": "823c3256-d23c-492b-8547-3a3b579ca835",
   "metadata": {},
   "outputs": [],
   "source": [
    "x = 1\n",
    "plot_df_error_central(f, df, 1)"
   ]
  },
  {
   "cell_type": "code",
   "execution_count": null,
   "id": "d74043fb-4b12-43d1-9013-e3c975ed3b0f",
   "metadata": {},
   "outputs": [],
   "source": [
    "x = 1\n",
    "plot_df_error_central(np.exp, np.exp, 1)"
   ]
  },
  {
   "cell_type": "markdown",
   "id": "f7b54689-de54-4a4b-8d59-902c5f580a0c",
   "metadata": {},
   "source": [
    "## Exercises \n",
    "Given a function \n",
    "$$\n",
    "f(x) = 2 (x_2 - x_1^2)^2 + (x_1 - 1)^2\n",
    "$$\n",
    "The gradient of $f(x)$ is \n",
    "$$\n",
    "\\nabla f(x) = \\begin{bmatrix}\n",
    "8(x_1^3 - x_1 x_2) + 2 (x_1 - 1) \\\\\n",
    "4(x_2 - x_1^2)\n",
    "\\end{bmatrix}\n",
    "$$\n",
    "The Hessian of $f(x)$ is \n",
    "$$\n",
    "\\nabla^2 f(x) = \\begin{bmatrix}\n",
    "24(x_1^2 - x_2) + 2 & -8 x_1 \\\\\n",
    "-8 x_1 & 4\n",
    "\\end{bmatrix}\n",
    "$$"
   ]
  },
  {
   "cell_type": "markdown",
   "id": "e4355b4f-a4e2-4d75-a39c-d224b407aaad",
   "metadata": {},
   "source": [
    "## Exercise 1\n",
    "Compute the gradients of $f(x)$ at $(0,0)$ and $(1,2)$ using forward-difference formula and then compare them with the analytical counterparts."
   ]
  },
  {
   "cell_type": "code",
   "execution_count": null,
   "id": "a5045838-c367-4a4e-b4ec-1ee6b0022e9c",
   "metadata": {},
   "outputs": [],
   "source": [
    "# Define example function and its true derivative\n",
    "def f(x):\n",
    "    return 2 * (x[1] - x[0] ** 2) ** 2 + (x[0] - 1) ** 2\n",
    "\n",
    "\n",
    "# Analytical gradient\n",
    "def df(x):\n",
    "    grad_x1 = 8 * (x[0] ** 3 - x[0] * x[1]) + 2 * (x[0] - 1)\n",
    "    grad_x2 = 4 * (x[1] - x[0] ** 2)\n",
    "    return np.array([grad_x1, grad_x2])\n",
    "\n",
    "\n",
    "# Analytical Hessian\n",
    "def df2(x):\n",
    "    hessian_00 = 24 * (x[0] ** 2 - x[1]) + 2\n",
    "    hessian_01 = -8 * x[0]\n",
    "    hessian_10 = -8 * x[0]\n",
    "    hessian_11 = 4\n",
    "    return np.array([[hessian_00, hessian_01], [hessian_10, hessian_11]])"
   ]
  },
  {
   "cell_type": "markdown",
   "id": "8e0efa39-14b5-42db-a77c-eae4bdbe9957",
   "metadata": {},
   "source": [
    "Using the forward difference function from earlier. We can estimate the analytical derivative:"
   ]
  },
  {
   "cell_type": "code",
   "execution_count": null,
   "id": "155095ad-0311-4ee3-80df-704efac9f730",
   "metadata": {},
   "outputs": [],
   "source": [
    "def forward_difference_gradient(f, x, epsilon):\n",
    "    n = len(x)\n",
    "    grad_approx = np.zeros(n)\n",
    "    for i in range(n):\n",
    "        e = np.zeros(n)\n",
    "        e[i] = 1\n",
    "        grad_approx[i] = (f(x + epsilon * e) - f(x)) / epsilon\n",
    "    return grad_approx"
   ]
  },
  {
   "cell_type": "code",
   "execution_count": null,
   "id": "61d70d05-e400-4f34-852e-82590075f029",
   "metadata": {},
   "outputs": [],
   "source": [
    "x = np.array([0, 0])\n",
    "epsilon = 0.000001\n",
    "e = 1\n",
    "df_estimate = forward_difference_gradient(f, x, epsilon)\n",
    "df_correct = df(x)\n",
    "\n",
    "print(\n",
    "    \"Derivative of f at point x=(%s, %s) with stepsize epsilon=%e:\" % (x[0], x[1], epsilon)\n",
    ")\n",
    "print(\"Estimate...: %15.8e %15.8e\" % (df_estimate[0], df_estimate[1]))\n",
    "print(\"Estimate...: %15.8e %15.8e\" % (df_correct[0], df_correct[1]))\n",
    "print(\"Error L2-Norm...: %15.8e\" % np.linalg.norm(np.abs(df_correct - df_estimate)))"
   ]
  },
  {
   "cell_type": "code",
   "execution_count": null,
   "id": "6cb300a1-7717-48b8-8999-fcfa6cd3a216",
   "metadata": {},
   "outputs": [],
   "source": [
    "x = np.array([1, 2])\n",
    "epsilon = 0.000001\n",
    "e = 1\n",
    "df_estimate = forward_difference_gradient(f, x, epsilon)\n",
    "df_correct = df(x)\n",
    "\n",
    "print(\n",
    "    \"Derivative of f at point x=(%s, %s) with stepsize epsilon=%e:\" % (x[0], x[1], epsilon)\n",
    ")\n",
    "print(\"Estimate...: %15.8e %15.8e\" % (df_estimate[0], df_estimate[1]))\n",
    "print(\"Estimate...: %15.8e %15.8e\" % (df_correct[0], df_correct[1]))\n",
    "print(\"Error L2-Norm...: %15.8e\" % np.linalg.norm(np.abs(df_correct - df_estimate)))"
   ]
  },
  {
   "cell_type": "code",
   "execution_count": null,
   "id": "56e3b5b3-38fb-4e8d-ae54-f54b5085ed72",
   "metadata": {},
   "outputs": [],
   "source": [
    "def forward_difference_hessian(f, x, epsilon):\n",
    "    n = len(x)\n",
    "    hessian_approx = np.zeros((n, n))\n",
    "    for i in range(n):\n",
    "        for j in range(n):\n",
    "            e_i = np.zeros(n)\n",
    "            e_j = np.zeros(n)\n",
    "            e_i[i] = 1\n",
    "            e_j[j] = 1\n",
    "            hessian_approx[i, j] = (\n",
    "                f(x + epsilon * (e_i + e_j))\n",
    "                - f(x + epsilon * e_i)\n",
    "                - f(x + epsilon * e_j)\n",
    "                + f(x)\n",
    "            ) / epsilon**2\n",
    "    return hessian_approx"
   ]
  },
  {
   "cell_type": "code",
   "execution_count": null,
   "id": "f4fffe7c-c2fd-4f48-a0e8-1648268e8dae",
   "metadata": {},
   "outputs": [],
   "source": [
    "x = np.array([0, 0])\n",
    "epsilon = 0.000001\n",
    "e = 1\n",
    "df2_estimate = forward_difference_hessian(f, x, epsilon)\n",
    "df2_correct = df2(x)\n",
    "\n",
    "print(\n",
    "    \"Hessian of f at point x=(%s, %s) with stepsize epsilon=%e:\" % (x[0], x[1], epsilon)\n",
    ")\n",
    "print(\"Estimate...: %15.8e %15.8e\" % (df2_estimate[0], df2_estimate[1]))\n",
    "print(\"Estimate...: %15.8e %15.8e\" % (df_correct[0], df_correct[1]))\n",
    "print(\"Error L2-Norm...: %15.8e\" % np.linalg.norm(np.abs(df_correct - df_estimate)))"
   ]
  },
  {
   "cell_type": "markdown",
   "id": "cc1c2775-ab5e-4625-a329-0ac37c18e020",
   "metadata": {},
   "source": [
    "## Exercise 2 \n",
    "Compute the gradients of $f(x)$ at $(0,0)$ and $(1,2)$ using central-difference formula and then compare them with the analytical counterparts."
   ]
  },
  {
   "cell_type": "code",
   "execution_count": null,
   "id": "b0109164-dbfa-49e8-8886-d21a2004b970",
   "metadata": {},
   "outputs": [],
   "source": []
  }
 ],
 "metadata": {
  "kernelspec": {
   "display_name": "Python 3 (ipykernel)",
   "language": "python",
   "name": "python3"
  },
  "language_info": {
   "codemirror_mode": {
    "name": "ipython",
    "version": 3
   },
   "file_extension": ".py",
   "mimetype": "text/x-python",
   "name": "python",
   "nbconvert_exporter": "python",
   "pygments_lexer": "ipython3",
   "version": "3.9.18"
  }
 },
 "nbformat": 4,
 "nbformat_minor": 5
}
