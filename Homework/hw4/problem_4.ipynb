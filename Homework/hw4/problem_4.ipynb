{
 "cells": [
  {
   "cell_type": "markdown",
   "id": "5ec7c5b9-ce0a-4222-9005-dbc8717c7bf7",
   "metadata": {},
   "source": [
    "## 4.2: Iterates"
   ]
  },
  {
   "cell_type": "code",
   "execution_count": null,
   "id": "2d53178c-970c-4f5c-89c7-6d9b2cc911b9",
   "metadata": {},
   "outputs": [],
   "source": [
    "import jax\n",
    "import jax.numpy as jnp\n",
    "import matplotlib.pyplot as plt\n",
    "import numpy as np\n",
    "from matplotlib.patches import FancyArrowPatch"
   ]
  },
  {
   "cell_type": "code",
   "execution_count": null,
   "id": "7639ec96-a0ac-4e03-86f8-f197507f7126",
   "metadata": {},
   "outputs": [],
   "source": [
    "# function and gradient\n",
    "def func(x, beta=1.0):\n",
    "    return x[0] ** 2 + beta * x[0] * x[1] + x[1] ** 2\n",
    "\n",
    "\n",
    "def grad_func(x, beta=1.0):\n",
    "    return jax.grad(func)(x, beta)"
   ]
  },
  {
   "cell_type": "code",
   "execution_count": null,
   "id": "e575fabb-2d4f-4536-82cc-5e73a3e90611",
   "metadata": {},
   "outputs": [],
   "source": [
    "x_range = np.linspace(-1.5, 2, 100)\n",
    "y_range = np.linspace(-1.5, 2, 100)\n",
    "X, Y = np.meshgrid(x_range, y_range)\n",
    "Z = np.array([[func(jnp.array([x, y]), beta=1.0) for x in x_range] for y in y_range])\n",
    "\n",
    "# initial point\n",
    "initial_point = jnp.array([1.0, 1.0])\n",
    "betas = [1]\n",
    "alphas = [1 / 2, 2 / 3, 1]\n",
    "iterations = 3"
   ]
  },
  {
   "cell_type": "code",
   "execution_count": null,
   "id": "880a01b8-c8bb-4817-aa63-3da7ac5352b3",
   "metadata": {},
   "outputs": [],
   "source": [
    "def plot_iterations(initial_point, beta, alpha, iterations):\n",
    "    x = initial_point\n",
    "    fig, ax = plt.subplots(figsize=(8, 6))\n",
    "    CS = ax.contour(X, Y, Z, 10, cmap=\"jet\", linewidths=2)\n",
    "    ax.clabel(CS, inline=1, fontsize=10)\n",
    "    ax.plot(x[0], x[1], \"or\", markersize=4)\n",
    "    ax.text(x[0] + 0.1, x[1] + 0.1, r\"$x^0$\")\n",
    "\n",
    "    for k in range(iterations):\n",
    "        # Compute gradient and next point\n",
    "        grad_x = grad_func(x, beta)\n",
    "        next_x = x - alpha * grad_x\n",
    "        grad_norm = jnp.linalg.norm(grad_func(next_x, beta))\n",
    "        print(f\"Iteration #{k+1}: x = {next_x}, L2 gradient norm = {grad_norm:.4f}\")\n",
    "\n",
    "        # Plot arrow\n",
    "        arrow = FancyArrowPatch(\n",
    "            (x[0], x[1]),\n",
    "            (next_x[0], next_x[1]),\n",
    "            arrowstyle=\"simple\",\n",
    "            color=\"k\",\n",
    "            mutation_scale=10,\n",
    "        )\n",
    "        ax.add_patch(arrow)\n",
    "\n",
    "        ax.plot(next_x[0], next_x[1], \"or\", markersize=4)\n",
    "        ax.text(next_x[0] + 0.1, next_x[1] + 0.1, f\"$x^{k+1}$\")\n",
    "\n",
    "        x = next_x\n",
    "\n",
    "    # Set plot details\n",
    "    ax.set_xlabel(\"x1\")\n",
    "    ax.set_ylabel(\"x2\")\n",
    "    ax.set_title(f\"Gradient Descent Iterations (beta={beta}, alpha={alpha:.2f})\")\n",
    "    plt.grid()\n",
    "    plt.show()"
   ]
  },
  {
   "cell_type": "code",
   "execution_count": null,
   "id": "f6ef0e2f-cb6e-4216-9ce4-dc980e809b88",
   "metadata": {},
   "outputs": [],
   "source": [
    "for beta in betas:\n",
    "    for alpha in alphas:\n",
    "        plot_iterations(initial_point, beta, alpha, iterations)"
   ]
  },
  {
   "cell_type": "markdown",
   "id": "9271cbe1-5979-43a1-9b13-0dc9457e0db3",
   "metadata": {},
   "source": [
    "We can see that case 1 converges the fastest as the gradient norm decreases the fastest."
   ]
  },
  {
   "cell_type": "code",
   "execution_count": null,
   "id": "f10dc3bf-0360-4cab-a439-6fbe0991651f",
   "metadata": {},
   "outputs": [],
   "source": []
  }
 ],
 "metadata": {
  "kernelspec": {
   "display_name": "Python 3 (ipykernel)",
   "language": "python",
   "name": "python3"
  },
  "language_info": {
   "codemirror_mode": {
    "name": "ipython",
    "version": 3
   },
   "file_extension": ".py",
   "mimetype": "text/x-python",
   "name": "python",
   "nbconvert_exporter": "python",
   "pygments_lexer": "ipython3",
   "version": "3.9.18"
  }
 },
 "nbformat": 4,
 "nbformat_minor": 5
}
