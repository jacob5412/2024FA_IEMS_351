{
 "cells": [
  {
   "cell_type": "markdown",
   "id": "8435afe3-5746-45e0-af21-c330ddd1af83",
   "metadata": {},
   "source": [
    "# IEMS 351: Homework #2"
   ]
  },
  {
   "cell_type": "code",
   "execution_count": null,
   "id": "e6bf3393-29a5-47ba-8806-0ab6b3ccc9a2",
   "metadata": {},
   "outputs": [],
   "source": [
    "import matplotlib.pyplot as plt\n",
    "import numpy as np"
   ]
  },
  {
   "cell_type": "markdown",
   "id": "0b7d6edd-45f7-48a2-815c-c447880e41d9",
   "metadata": {},
   "source": [
    "## Problem 1\n",
    "\n",
    "* Since the scatter plot decreases and increases, the relationship between z and y is visually non-linear. Hence, any form of a linear regression model we suggest wouldn't work. Instead, we should try using some polynomial regression that captures the shape.\n",
    "* Specifically, quadratic regression might work assuming that the points in the image $-0.5 \\le z \\le 0.5$ and $-0.1 \\le y \\le 0.3$ are the domain and range of the function. We don't know how the data would behave outside this range and domain.\n",
    "* I suggest a model of the form, given that $z \\in [-0.5, 0.5]$:\n",
    "\n",
    "$$m(z;x) = x_0 + x_1z + x_2z^2$$\n",
    "\n",
    "* For the optimization problem, we could simply use the least square objective function; this is because the Gauss-Markov theorem states that OLS is BLUE ([Source]( https://statisticsbyjim.com/regression/gauss-markov-theorem-ols-blue/)).\n",
    "* Given the data points $(z_1, y_1), (z_2, y_2), ..., (z_N, y_N)$, the least square can be written as:\n",
    "\n",
    "$$f(x) = \\sum_{i=1}^{N} \\left( y_i - \\left( x_0 + x_1 z_i + x_2 z_i^2 \\right) \\right)^2$$\n",
    "\n",
    "* the minimization of this objective function and finding the parameters is our goal:\n",
    "$$ \\underset{x_0, x_1, x_2}{\\text{argmin}} f(x)$$"
   ]
  },
  {
   "cell_type": "markdown",
   "id": "aa00486a-18f8-4515-adaf-82dc58210927",
   "metadata": {},
   "source": [
    "## Problem 2\n",
    "\n",
    "### Global Minimizer\n",
    "\n",
    "Let $f: \\mathbb{R} \\to \\mathbb{R}$. A point $x^* \\in \\mathbb{R}$ is a __global minimizer__ of $f(x)$ if:\n",
    "$$f(x^*) \\leq f(x), \\forall x \\in \\mathbb{R}$$\n",
    "\n",
    "Example:"
   ]
  },
  {
   "cell_type": "code",
   "execution_count": null,
   "id": "acf1c2d5-69ee-4f1a-9c1b-4c0ece6a83f0",
   "metadata": {},
   "outputs": [],
   "source": [
    "x = np.linspace(-8, 8, 400)\n",
    "y = x**2\n",
    "\n",
    "plt.plot(x, y, \"r-\", label=r\"$f(x) = x^2$\")\n",
    "plt.scatter(0, 0, color=\"blue\", s=100, zorder=5)\n",
    "plt.xlabel(\"x\")\n",
    "plt.ylabel(\"y\")\n",
    "plt.grid(True)\n",
    "plt.title(r\"Global Minimizer\")\n",
    "plt.legend()\n",
    "plt.show()"
   ]
  },
  {
   "cell_type": "markdown",
   "id": "ce888fa2-f099-4345-a08e-dcb1d46f1383",
   "metadata": {},
   "source": [
    "### Local Minimizer\n",
    "\n",
    "Let $f: \\mathbb{R} \\to \\mathbb{R}$. A point $\\hat{x} \\in \\mathbb{R}$ is a __local minimizer__ of $f(x)$ if there exists a $\\delta > 0$ such that:\n",
    "\n",
    "$$f(\\hat{x}) \\leq f(x),$$\n",
    "\n",
    "for all $x \\in \\mathbb{R}$ with $\\vert x - \\hat{x}\\vert < \\delta$.\n",
    "\n",
    "Example:"
   ]
  },
  {
   "cell_type": "code",
   "execution_count": null,
   "id": "da520280-857a-47ab-8ccb-601906375372",
   "metadata": {},
   "outputs": [],
   "source": [
    "x = np.linspace(-8, 8, 400)\n",
    "y = np.max(np.array([x, -x]), axis=0) - (0.2 * x**2)\n",
    "\n",
    "plt.plot(x, y, \"r-\", label=r\"$max(-x, x) - 0.2x^2$\")\n",
    "plt.scatter(0, 0, color=\"blue\", s=100, zorder=5)\n",
    "plt.xlabel(\"x\")\n",
    "plt.ylabel(\"y\")\n",
    "plt.grid(True)\n",
    "plt.title(r\"Local Minimizer\")\n",
    "plt.legend()\n",
    "plt.show()"
   ]
  },
  {
   "cell_type": "markdown",
   "id": "2f06f40c-0c7b-49ca-8b4d-de459b8e15df",
   "metadata": {},
   "source": [
    "* A global minimizer is always a local minimizer but the reverse is not right.\n",
    "* However, if a function is convex, then its local minimizer is a global minimizer."
   ]
  },
  {
   "cell_type": "markdown",
   "id": "08bc4de6-8f6e-472d-8f7f-d6c2b9df06d1",
   "metadata": {},
   "source": [
    "## Problem 3:"
   ]
  },
  {
   "cell_type": "code",
   "execution_count": null,
   "id": "40f4b730-39f8-41e5-8f2b-3564da0bf35e",
   "metadata": {},
   "outputs": [],
   "source": [
    "x = np.linspace(-8, 8, 400)\n",
    "y = x**2\n",
    "\n",
    "plt.plot(x, y, \"r-\", label=r\"$f(x) = x^2$\")\n",
    "plt.scatter(0, 0, color=\"blue\", s=100, zorder=5)\n",
    "plt.xlabel(\"x\")\n",
    "plt.ylabel(\"y\")\n",
    "plt.grid(True)\n",
    "plt.title(r\"Plot of $f(x) = x^2$\")\n",
    "plt.legend()\n",
    "plt.show()"
   ]
  },
  {
   "cell_type": "markdown",
   "id": "e84cad97-fd9d-4eb2-81e6-9f85763a5d3c",
   "metadata": {},
   "source": [
    "* Now, to show that $x^2$ is convex, we can start with the definition of a convex function.\n",
    "* If a function is convex, it must follow the following inequality:\n",
    "$$f(\\lambda x + (1 - y)\\lambda) \\le \\lambda f(x) + (1- \\lambda)f(y)$$\n",
    "* This holds true $\\forall \\lambda \\in [0, 1]$.\n",
    "* Now we use $f(x) = x^2$ and we get:\n",
    "$$(\\lambda x + (1 - y)\\lambda)^2 \\le \\lambda x^2 + (1- \\lambda)y^2$$\n",
    "* which simplifies to:\n",
    "$$(\\lambda x + (1 - y)\\lambda)^2 - \\lambda x^2 - (1- \\lambda)y^2 \\le 0$$\n",
    "* using the property, $(\\lambda x + (1 - y)\\lambda)^2 - \\lambda x^2 - (1- \\lambda)y^2 = \\lambda (\\lambda - 1)(x-y)^2$, we know have:\n",
    "\n",
    "$$\\lambda (\\lambda - 1)(x-y)^2 \\le 0$$\n",
    "\n",
    "* The above basically checks if the left hand side is 0 or positive.\n",
    "* Now, we know that $(x-y)^2$ is always going to be positive.\n",
    "* Let's focus on $(\\lambda - 1)$:\n",
    "    * we know that $0 \\le \\lambda \\le 1$\n",
    "    * for $\\lambda = 1$, we get $-1$\n",
    "    * for $\\lambda = 0$, we get $0$\n",
    "    * for $\\lambda = 0.99$, we get $-0.01$\n",
    "    * this means that $(\\lambda - 1) \\le 0 ,\\forall \\lambda \\in [0, 1]$\n",
    "* Hence, the inequality holds and $f(x) = x^2$ must be a convex function."
   ]
  },
  {
   "cell_type": "markdown",
   "id": "aeb6495e-305d-47cc-8c6f-a3055d47f3a4",
   "metadata": {},
   "source": [
    "## Problem 4\n",
    "\n",
    "$e^x$ is a univariate convex function ([Source](https://www.princeton.edu/~aaa/Public/Teaching/ORF523/S16/ORF523_S16_Lec7_gh.pdf)) and its grah is as follows:\n"
   ]
  },
  {
   "cell_type": "code",
   "execution_count": null,
   "id": "3b4c53c5-9d50-466f-a819-7d6f127441f1",
   "metadata": {},
   "outputs": [],
   "source": [
    "x = np.linspace(-1, 1, 400)\n",
    "y = np.exp(x)\n",
    "\n",
    "plt.plot(x, y, \"r-\", label=r\"$g(x) = e^x$\")\n",
    "plt.xlabel(\"x\")\n",
    "plt.ylabel(\"y\")\n",
    "plt.grid(True)\n",
    "plt.title(r\"Plot of $g(x) = e^x$\")\n",
    "plt.legend()\n",
    "plt.show()"
   ]
  },
  {
   "cell_type": "markdown",
   "id": "7bbffb1e-bd15-49e9-822d-7ae5a7bc61dc",
   "metadata": {},
   "source": [
    "* We know that for a function, $f: \\mathbb{R} \\to \\mathbb{R}$, if $f$ is twice continuously differentiable, it is convex iff:\n",
    "\n",
    "$$f''(x) \\ge 0, \\forall x \\in \\mathbb{R}$$\n",
    "\n",
    "* Taking the second-derivative of $e^x$, $g''(x) = e^x \\ge 0, \\forall x \\in \\mathbb{R}$\n",
    "* Hence $e^x$ is a convex function.\n",
    "\n",
    "Now, given that $f(x) = x^2$:\n",
    "\n",
    "* We need to check if $h(x) = f(x) + g(x)$ is also convex.\n",
    "* Using the same theorem as above, let's start by finding the derivatives.\n",
    "* The derivatives are as follows:\n",
    "\n",
    "$$h'(x) = 2x + e^x$$\n",
    "$$h''(x) = 2 + e^x$$\n",
    "\n",
    "* Plotting this, we can see that:"
   ]
  },
  {
   "cell_type": "code",
   "execution_count": null,
   "id": "af832d31-3b13-47f9-b9ca-bd0d45ca2739",
   "metadata": {},
   "outputs": [],
   "source": [
    "x = np.linspace(-8, 8, 400)\n",
    "y = 2 + np.exp(x)\n",
    "\n",
    "plt.plot(x, y, \"r-\", label=r\"$h''(x) = 2 + e^x$\")\n",
    "plt.xlabel(\"x\")\n",
    "plt.ylabel(\"y\")\n",
    "plt.grid(True)\n",
    "plt.title(r\"Plot of $h''(x) = 2 + e^x$\")\n",
    "plt.legend()\n",
    "plt.show()"
   ]
  },
  {
   "cell_type": "markdown",
   "id": "abace102-4239-48ea-ba86-90ac0b2a7db8",
   "metadata": {},
   "source": [
    "* $2 + e^x \\ge 0$, hence $h(x)$ is also convex."
   ]
  },
  {
   "cell_type": "code",
   "execution_count": null,
   "id": "4c37331d-9d87-4e02-903f-21ecebd6749c",
   "metadata": {},
   "outputs": [],
   "source": []
  }
 ],
 "metadata": {
  "kernelspec": {
   "display_name": "Python 3 (ipykernel)",
   "language": "python",
   "name": "python3"
  },
  "language_info": {
   "codemirror_mode": {
    "name": "ipython",
    "version": 3
   },
   "file_extension": ".py",
   "mimetype": "text/x-python",
   "name": "python",
   "nbconvert_exporter": "python",
   "pygments_lexer": "ipython3",
   "version": "3.9.18"
  }
 },
 "nbformat": 4,
 "nbformat_minor": 5
}
