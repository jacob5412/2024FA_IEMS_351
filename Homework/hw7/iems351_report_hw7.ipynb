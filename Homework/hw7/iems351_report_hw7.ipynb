{
 "cells": [
  {
   "cell_type": "markdown",
   "id": "1958d9bc-dc2c-4403-a311-77dfbb641ccc",
   "metadata": {},
   "source": [
    "# IEMS 351 HW 7 \n",
    "## Solving minimization problems using Newton's method\n",
    "Please do the following to finish HW 7:\n",
    "- Finish the implementation of Newton's method in iems351_tools_hw7.py \n",
    "- Use your code to solve the following optimization problems.\n",
    "- The one-line-per-iteration output should look like this: <br>\n",
    "iter &emsp; f &emsp; &emsp; &emsp; &emsp; &emsp; ||d_k|| &emsp; &emsp; &emsp; &emsp; alpha &emsp; &emsp; &emsp; &emsp; perturb &emsp; &emsp; ||grad|| &emsp; &emsp; linesearch_success <br>\n",
    "0 &emsp; 8.0000e+00 &emsp; 0.0000e+00 &emsp; 0.0000e+00 &emsp; 0.0000e+00 &emsp; 5.6569e+00 &emsp; n/a <br>\n",
    "1 &emsp; &nbsp; 9.8608e-32 &emsp; 2.8284e+00 &emsp; 1.0000e+00 &emsp; 0.0000e+00 &emsp; 6.2804e-16 &emsp; True  <br>\n",
    "- Submit iems351_tools_hw7.py, iems351_report_hw7.ipynb, and the .HTML file of the Jupyter Notebook to Canvas "
   ]
  },
  {
   "cell_type": "code",
   "execution_count": null,
   "id": "ada21bf8-20f9-49b7-ba63-914b5ffa50e5",
   "metadata": {},
   "outputs": [],
   "source": [
    "import numpy as np\n",
    "import scipy as sp\n",
    "from iems351_tools_hw7 import newton_method_minimize"
   ]
  },
  {
   "cell_type": "code",
   "execution_count": null,
   "id": "f006a03d-568b-419f-8508-8f79e3c80616",
   "metadata": {},
   "outputs": [],
   "source": [
    "param = {\n",
    "    \"alpha_constant\": 1.0,\n",
    "    \"linesearch\": \"backtracking\",\n",
    "    \"tol\": 1e-6,\n",
    "    \"eta\": 0.5,\n",
    "    \"correction_factor\": 1,\n",
    "    \"increase_factor\": 2,\n",
    "    \"decrease_factor\": 0.5,\n",
    "    \"max_it_backtracking\": 100,\n",
    "    \"max_iteration\": 40,\n",
    "}"
   ]
  },
  {
   "cell_type": "markdown",
   "id": "e3e4155b-18f9-41a0-a2da-047001fb394c",
   "metadata": {},
   "source": [
    "# Exercise 1 \n",
    "$f(x) = x_1^2 + x_2^2$, $x \\in \\mathbb{R}^2$. Solve this for the following starting points: \n",
    "- $x^{(0)} = (2,2)$\n",
    "- $x^{(0)} = (1,-1)$"
   ]
  },
  {
   "cell_type": "code",
   "execution_count": null,
   "id": "c72be6d0-5971-4312-afc4-7f4e6b155b17",
   "metadata": {},
   "outputs": [],
   "source": [
    "def quadratic_func(x):\n",
    "    return x @ x\n",
    "\n",
    "\n",
    "def quadratic_grad(x):\n",
    "    return x * 2\n",
    "\n",
    "\n",
    "def quadratic_hessian(x):\n",
    "    n = len(x)\n",
    "    return np.eye(n) * 2\n",
    "\n",
    "\n",
    "quadratic_model = {\"func\": quadratic_func, \"grad\": quadratic_grad, \"hessian\": quadratic_hessian}"
   ]
  },
  {
   "cell_type": "markdown",
   "id": "40053a61-0d79-44b5-aff5-73e2b02ca661",
   "metadata": {},
   "source": [
    "## 1.1 $x^{(0)} = (2,2)$"
   ]
  },
  {
   "cell_type": "code",
   "execution_count": null,
   "id": "6d855954-af80-41f1-be53-f0e25a8b15be",
   "metadata": {},
   "outputs": [],
   "source": [
    "x_init = np.array([2, 2])\n",
    "x_sol = newton_method_minimize(x_init, quadratic_model, param)\n",
    "print(x_sol)"
   ]
  },
  {
   "cell_type": "markdown",
   "id": "cca6999b-f2cb-41a6-a8aa-1261105c7614",
   "metadata": {},
   "source": [
    "## 1.2 $x^{(0)} = (1,-1)$"
   ]
  },
  {
   "cell_type": "code",
   "execution_count": null,
   "id": "9cba5dbb-d25c-45ab-9e8b-ec305dec38dd",
   "metadata": {},
   "outputs": [],
   "source": [
    "# ======================================================================================\n",
    "# Write your codes here\n",
    "x_init = np.array([1, -1])\n",
    "x_sol = newton_method_minimize(x_init, quadratic_model, param)\n",
    "print(x_sol)\n",
    "# ======================================================================================"
   ]
  },
  {
   "cell_type": "markdown",
   "id": "82f4cfd2-6da5-4f68-887f-d756d3afaad1",
   "metadata": {},
   "source": [
    "# Exercise 2 \n",
    "$ f(x) = x_1^3 - x_1 + x_2^3 - x_2$, $x \\in \\mathbb{R}^2$. Solve this for the following starting points:\n",
    "- $x^{(0)} = (1.25, 0.5)$\n",
    "- $x^{(0)} = (1.25, -0.5)$\n",
    "- $x^{(0)} = (-0.25,-0.5)$"
   ]
  },
  {
   "cell_type": "code",
   "execution_count": null,
   "id": "f9fcdb8b-1208-426c-8073-8646946d98e3",
   "metadata": {},
   "outputs": [],
   "source": [
    "def cubic_func(x):\n",
    "    # ======================================================================================\n",
    "    # Write your codes here\n",
    "    return np.sum((x**3) - x)\n",
    "    # ======================================================================================\n",
    "\n",
    "\n",
    "def cubic_grad(x):\n",
    "    # ======================================================================================\n",
    "    # Write your codes here\n",
    "    return 3 * x**2 - 1\n",
    "    # ======================================================================================\n",
    "\n",
    "\n",
    "def cubic_hessian(x):\n",
    "    # ======================================================================================\n",
    "    # Write your codes here\n",
    "    return np.diag(6 * x)\n",
    "    # ======================================================================================\n",
    "\n",
    "\n",
    "cubic_model = {\"func\": cubic_func, \"grad\": cubic_grad, \"hessian\": cubic_hessian}"
   ]
  },
  {
   "cell_type": "markdown",
   "id": "0862731e-1b91-41d3-a81b-058ea18b2a5c",
   "metadata": {},
   "source": [
    "## 2.1 $x^{(0)} = (1.25, 0.5)$"
   ]
  },
  {
   "cell_type": "code",
   "execution_count": null,
   "id": "5886d06c-fb55-4edf-8056-7e11b5bb1d38",
   "metadata": {},
   "outputs": [],
   "source": [
    "# ======================================================================================\n",
    "# Write your codes here\n",
    "x_init = np.array([1.25, 0.5])\n",
    "x_sol = newton_method_minimize(x_init, cubic_model, param)\n",
    "print(x_sol)\n",
    "# ======================================================================================"
   ]
  },
  {
   "cell_type": "markdown",
   "id": "b1d4c1e1-7a62-4fc2-a041-52bd373a990d",
   "metadata": {},
   "source": [
    "## 2.2 $x^{(0)} = (1.25, -0.5)$"
   ]
  },
  {
   "cell_type": "code",
   "execution_count": null,
   "id": "51e7840b-a9ae-40a3-99e1-9ae1b350ada7",
   "metadata": {},
   "outputs": [],
   "source": [
    "# ======================================================================================\n",
    "# Write your codes here\n",
    "x_init = np.array([1.25, -0.5])\n",
    "x_sol = newton_method_minimize(x_init, cubic_model, param)\n",
    "print(x_sol)\n",
    "# ======================================================================================"
   ]
  },
  {
   "cell_type": "markdown",
   "id": "995c5cf8-0fa9-411d-8f16-6adfc4dcc9c9",
   "metadata": {},
   "source": [
    "## 2.3 $x^{(0)} = (-0.25, -0.5)$"
   ]
  },
  {
   "cell_type": "code",
   "execution_count": null,
   "id": "f4b8e79c-8028-4e4b-a364-243d1d2d7ef3",
   "metadata": {},
   "outputs": [],
   "source": [
    "# ======================================================================================\n",
    "# Write your codes here\n",
    "x_init = np.array([-0.25, -0.5])\n",
    "x_sol = newton_method_minimize(x_init, cubic_model, param)\n",
    "print(x_sol)\n",
    "# ======================================================================================"
   ]
  },
  {
   "cell_type": "markdown",
   "id": "51f55932-1d90-4782-a607-e52c684656aa",
   "metadata": {},
   "source": [
    "## Exercise 3 \n",
    "Rosenbrock Function\n",
    "\\begin{equation*}\n",
    "        f(x) = a \\cdot (x_2 - x_1^2)^2 + (x_1 - 1)^2 \\quad \\text{(parameter $a > 0$)}\n",
    "\\end{equation*}\n",
    "Solve this for the following cases: \n",
    "- a = 1, $x^{(0)} = (1.2, 1.2)$\n",
    "- a = 1, $x^{(0)} = (−1.2, 1)$\n",
    "- a = 100, $x^{(0)} = (1.2, 1.2)$\n",
    "- a = 100, $x^{(0)} = (-1.2, 1)$\n",
    "\n"
   ]
  },
  {
   "cell_type": "code",
   "execution_count": null,
   "id": "0e051415-eecc-4a4f-b168-97ba778d1f7f",
   "metadata": {},
   "outputs": [],
   "source": [
    "def rosenbrock1(x):\n",
    "    a = 1\n",
    "    # ======================================================================================\n",
    "    # Write your codes here\n",
    "    return a * (x[1] - x[0] ** 2) ** 2 + (x[0] - 1) ** 2\n",
    "    # ======================================================================================\n",
    "\n",
    "\n",
    "def grad_rosenbrock1(x):\n",
    "    a = 1\n",
    "    # ======================================================================================\n",
    "    # Write your codes here\n",
    "    grad_x1 = -4 * a * x[0] * (x[1] - x[0] ** 2) + 2 * (x[0] - 1)\n",
    "    grad_x2 = 2 * a * (x[1] - x[0] ** 2)\n",
    "    return np.array([grad_x1, grad_x2])\n",
    "    # ======================================================================================\n",
    "\n",
    "\n",
    "def hessian_rosenbrock1(x):\n",
    "    a = 1\n",
    "    # ======================================================================================\n",
    "    # Write your codes here\n",
    "    h11 = -4 * a * (x[1] - x[0] ** 2) + 8 * a * x[0] ** 2 + 2\n",
    "    h12 = -4 * a * x[0]\n",
    "    h21 = -4 * a * x[0]\n",
    "    h22 = 2 * a\n",
    "    return np.array([[h11, h12], [h21, h22]])\n",
    "    # ======================================================================================\n",
    "\n",
    "\n",
    "rosenbrock1_model = {\"func\": rosenbrock1, \"grad\": grad_rosenbrock1, \"hessian\": hessian_rosenbrock1}"
   ]
  },
  {
   "cell_type": "code",
   "execution_count": null,
   "id": "b3cdee37-1b92-40f7-b4c5-defc19387b5e",
   "metadata": {},
   "outputs": [],
   "source": [
    "def rosenbrock100(x):\n",
    "    a = 100\n",
    "    # ======================================================================================\n",
    "    # Write your codes here\n",
    "    return a * (x[1] - x[0] ** 2) ** 2 + (x[0] - 1) ** 2\n",
    "    # ======================================================================================\n",
    "\n",
    "\n",
    "def grad_rosenbrock100(x):\n",
    "    a = 100\n",
    "    # ======================================================================================\n",
    "    # Write your codes here\n",
    "    grad_x1 = -4 * a * x[0] * (x[1] - x[0] ** 2) + 2 * (x[0] - 1)\n",
    "    grad_x2 = 2 * a * (x[1] - x[0] ** 2)\n",
    "    return np.array([grad_x1, grad_x2])\n",
    "    # ======================================================================================\n",
    "\n",
    "\n",
    "def hessian_rosenbrock100(x):\n",
    "    a = 100\n",
    "    # ======================================================================================\n",
    "    # Write your codes here\n",
    "    h11 = -4 * a * (x[1] - x[0] ** 2) + 8 * a * x[0] ** 2 + 2\n",
    "    h12 = -4 * a * x[0]\n",
    "    h21 = -4 * a * x[0]\n",
    "    h22 = 2 * a\n",
    "    return np.array([[h11, h12], [h21, h22]])\n",
    "    # ======================================================================================\n",
    "\n",
    "\n",
    "rosenbrock100_model = {\"func\": rosenbrock100, \"grad\": grad_rosenbrock100, \"hessian\": hessian_rosenbrock100}"
   ]
  },
  {
   "cell_type": "markdown",
   "id": "2d292493-e986-4879-a074-8688ec3f1488",
   "metadata": {},
   "source": [
    "## 3.1 $a = 1, x^{(0)} = (1.2, 1.2)$"
   ]
  },
  {
   "cell_type": "code",
   "execution_count": null,
   "id": "6b798b23-ba36-47ee-8fe1-cbbf2aef87ec",
   "metadata": {},
   "outputs": [],
   "source": [
    "# ======================================================================================\n",
    "# Write your codes here\n",
    "x_init = np.array([1.2, 1.2])\n",
    "x_sol = newton_method_minimize(x_init, rosenbrock1_model, param)\n",
    "print(x_sol)\n",
    "# ======================================================================================"
   ]
  },
  {
   "cell_type": "markdown",
   "id": "d8abe7b4-e9ee-42f5-9853-46735f1b1515",
   "metadata": {},
   "source": [
    "## 3.2 $a = 1, x^{(0)} = (−1.2, 1)$"
   ]
  },
  {
   "cell_type": "code",
   "execution_count": null,
   "id": "708cb43a-b8dd-4bc9-8534-bad17e1ea7c1",
   "metadata": {},
   "outputs": [],
   "source": [
    "# ======================================================================================\n",
    "# Write your codes here\n",
    "x_init = np.array([-1.2, 1])\n",
    "x_sol = newton_method_minimize(x_init, rosenbrock1_model, param)\n",
    "print(x_sol)\n",
    "# ======================================================================================"
   ]
  },
  {
   "cell_type": "markdown",
   "id": "196ef2b1-80be-4a67-a7dd-4ad67eace0d2",
   "metadata": {},
   "source": [
    "## 3.3 $a = 100, x^{(0)} = (1.2, 1.2)$"
   ]
  },
  {
   "cell_type": "code",
   "execution_count": null,
   "id": "2153c745-aeab-4ea0-a010-a4eca6615832",
   "metadata": {},
   "outputs": [],
   "source": [
    "# ======================================================================================\n",
    "# Write your codes here\n",
    "x_init = np.array([1.2, 1.2])\n",
    "x_sol = newton_method_minimize(x_init, rosenbrock100_model, param)\n",
    "print(x_sol)\n",
    "# ======================================================================================"
   ]
  },
  {
   "cell_type": "markdown",
   "id": "1de09a85-7a74-4894-8631-efa3895c8812",
   "metadata": {},
   "source": [
    "## 3.4 $a = 100, x^{(0)} = (-1.2, 1)$"
   ]
  },
  {
   "cell_type": "code",
   "execution_count": null,
   "id": "99bdb069-41ce-4c37-9fa7-d3bdbf57ff4b",
   "metadata": {},
   "outputs": [],
   "source": [
    "# ======================================================================================\n",
    "# Write your codes here\n",
    "x_init = np.array([-1.2, 1])\n",
    "x_sol = newton_method_minimize(x_init, rosenbrock100_model, param)\n",
    "print(x_sol)\n",
    "# ======================================================================================"
   ]
  },
  {
   "cell_type": "code",
   "execution_count": null,
   "id": "95064a51-7a12-4e2a-9670-de525bd1f1a2",
   "metadata": {},
   "outputs": [],
   "source": []
  }
 ],
 "metadata": {
  "kernelspec": {
   "display_name": "Python 3 (ipykernel)",
   "language": "python",
   "name": "python3"
  },
  "language_info": {
   "codemirror_mode": {
    "name": "ipython",
    "version": 3
   },
   "file_extension": ".py",
   "mimetype": "text/x-python",
   "name": "python",
   "nbconvert_exporter": "python",
   "pygments_lexer": "ipython3",
   "version": "3.9.18"
  }
 },
 "nbformat": 4,
 "nbformat_minor": 5
}
