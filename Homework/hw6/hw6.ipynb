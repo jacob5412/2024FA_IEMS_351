{
 "cells": [
  {
   "cell_type": "markdown",
   "id": "ec240b89-5357-48be-b596-6be3cda866fa",
   "metadata": {},
   "source": [
    "# Homework 6"
   ]
  },
  {
   "cell_type": "code",
   "execution_count": null,
   "id": "45bfc880-72ca-443f-8df5-f5b3f88ea4f4",
   "metadata": {},
   "outputs": [],
   "source": [
    "import jax\n",
    "import jax.numpy as jnp\n",
    "import matplotlib.pyplot as plt\n",
    "import numpy as np\n",
    "import sympy as sp\n",
    "from matplotlib.patches import FancyArrowPatch\n",
    "from mpl_toolkits.mplot3d import Axes3D"
   ]
  },
  {
   "cell_type": "markdown",
   "id": "f1ae1ea0-f01a-4fa9-9bf0-09cce7446f22",
   "metadata": {},
   "source": [
    "## Problem 1.2"
   ]
  },
  {
   "cell_type": "code",
   "execution_count": null,
   "id": "fc589e81-1b84-41f1-a169-83afb697fdc4",
   "metadata": {},
   "outputs": [],
   "source": [
    "# function and gradient\n",
    "def func(x):\n",
    "    return (1 / 3) * x[0] ** 3 - 2 * x[0] * x[1] + (1 / 2) * x[1] ** 2 - 8 * x[0] + 4 * x[1]\n",
    "\n",
    "\n",
    "def grad_func(x):\n",
    "    return jax.grad(func)(x)"
   ]
  },
  {
   "cell_type": "code",
   "execution_count": null,
   "id": "c9713fcb-98b2-489e-9e08-cd7345efc96c",
   "metadata": {},
   "outputs": [],
   "source": [
    "x1_range = np.linspace(-5.5, 5.5, 200)\n",
    "x2_range = np.linspace(-5.5, 5.5, 200)\n",
    "X1, X2 = np.meshgrid(x1_range, x2_range)\n",
    "Z = np.array([[func(jnp.array([x1, x2])) for x1 in x1_range] for x2 in x2_range])\n",
    "\n",
    "iterations = 100\n",
    "alpha = 1e-1\n",
    "\n",
    "# initial point\n",
    "initial_point = jnp.array([1.0, 1.0])\n",
    "\n",
    "x = initial_point\n",
    "fig, ax = plt.subplots(figsize=(8, 6))\n",
    "CS = ax.contour(X1, X2, Z, 10, cmap=\"plasma\", linewidths=2, levels=30)\n",
    "ax.clabel(CS, inline=1, fontsize=10)\n",
    "ax.plot(x[0], x[1], \"or\", markersize=4)\n",
    "ax.text(x[0] + 0.1, x[1] + 0.1, r\"$x^0$\")\n",
    "\n",
    "for k in range(iterations):\n",
    "    # Compute gradient and next point\n",
    "    grad_x = grad_func(x)\n",
    "    next_x = x - alpha * grad_x\n",
    "    grad_norm = jnp.linalg.norm(grad_func(next_x))\n",
    "    if k % 10 == 0:\n",
    "        print(f\"Iteration #{k}: x = {next_x}, L2 gradient norm = {grad_norm:.4f}\")\n",
    "\n",
    "    # Plot arrow\n",
    "    arrow = FancyArrowPatch(\n",
    "        (x[0], x[1]),\n",
    "        (next_x[0], next_x[1]),\n",
    "        arrowstyle=\"simple\",\n",
    "        color=\"k\",\n",
    "        mutation_scale=10,\n",
    "    )\n",
    "    ax.add_patch(arrow)\n",
    "\n",
    "    ax.plot(next_x[0], next_x[1], \"or\", markersize=4)\n",
    "    ax.text(next_x[0] + 0.1, next_x[1] + 0.1, f\"$x^{k+1}$\")\n",
    "\n",
    "    x = next_x\n",
    "\n",
    "# Set plot details\n",
    "ax.set_xlabel(\"x1\")\n",
    "ax.set_ylabel(\"x2\")\n",
    "plt.grid()\n",
    "plt.savefig(\"grad_desc_1.png\", dpi=150)\n",
    "plt.show()"
   ]
  },
  {
   "cell_type": "code",
   "execution_count": null,
   "id": "906cde41-9d6a-458e-a34c-5a108a852e35",
   "metadata": {},
   "outputs": [],
   "source": [
    "x1_range = np.linspace(-5.5, 5.5, 200)\n",
    "x2_range = np.linspace(-5.5, 5.5, 200)\n",
    "X1, X2 = np.meshgrid(x1_range, x2_range)\n",
    "Z = np.array([[func(jnp.array([x1, x2])) for x1 in x1_range] for x2 in x2_range])\n",
    "\n",
    "fig, ax = plt.subplots(figsize=(8, 6))\n",
    "contour = plt.contour(X1, X2, Z, levels=30, cmap=\"viridis\")\n",
    "ax.clabel(contour, inline=1, fontsize=10)\n",
    "plt.xlabel(\"$x_1$\")\n",
    "plt.ylabel(\"$x_2$\")\n",
    "\n",
    "stationary_points_numeric = [(0, -4), (4, 4)]\n",
    "for point in stationary_points_numeric:\n",
    "    plt.plot(point[0], point[1], \"ro\")  # Red dots for stationary points\n",
    "plt.savefig(\"stat_point_1.png\", dpi=150)\n",
    "plt.show()"
   ]
  },
  {
   "cell_type": "markdown",
   "id": "94a1a0bc-5a4f-4340-94ce-2869c3197086",
   "metadata": {},
   "source": [
    "## Problem 1.3"
   ]
  },
  {
   "cell_type": "code",
   "execution_count": null,
   "id": "afd6fc70-e0f9-4d68-82aa-6eb9b60a294d",
   "metadata": {},
   "outputs": [],
   "source": [
    "x1, x2 = sp.symbols(\"x1 x2\")\n",
    "f = (1 / 3) * x1**3 - 2 * x1 * x2 + (1 / 2) * x2**2 - 8 * x1 + 4 * x2\n",
    "\n",
    "Hessian = sp.hessian(f, (x1, x2))\n",
    "Hessian_eval_1 = Hessian.subs({x1: 0, x2: -4})  # At (0, -4)\n",
    "Hessian_eval_2 = Hessian.subs({x1: 4, x2: 4})  # At (4, 4)\n",
    "\n",
    "# Check definiteness by eigenvalues\n",
    "Hessian_eval_1_eigenvalues = [sp.N(eig) for eig in Hessian_eval_1.eigenvals()]\n",
    "Hessian_eval_2_eigenvalues = [sp.N(eig) for eig in Hessian_eval_2.eigenvals()]"
   ]
  },
  {
   "cell_type": "code",
   "execution_count": null,
   "id": "3af50582-74fa-41ca-b378-fa1d9d2233bb",
   "metadata": {},
   "outputs": [],
   "source": [
    "Hessian_eval_1_eigenvalues"
   ]
  },
  {
   "cell_type": "code",
   "execution_count": null,
   "id": "9bf36ea8-1744-4bf5-b3ed-b95a8703ec98",
   "metadata": {},
   "outputs": [],
   "source": [
    "Hessian_eval_2_eigenvalues"
   ]
  },
  {
   "cell_type": "code",
   "execution_count": null,
   "id": "a18e4448-8ef1-4e4b-b67a-217d0769b60a",
   "metadata": {},
   "outputs": [],
   "source": [
    "stationary_points = [(0, -4), (4, 4)]\n",
    "stationary_values = [func(pt) for pt in stationary_points]"
   ]
  },
  {
   "cell_type": "code",
   "execution_count": null,
   "id": "e4d1b1d1-4bff-4c82-aeea-6c53aa62e5d7",
   "metadata": {},
   "outputs": [],
   "source": [
    "x1_vals = np.linspace(-5, 5, 100)\n",
    "x2_vals = np.linspace(-5, 5, 100)\n",
    "X1, X2 = np.meshgrid(x1_vals, x2_vals)\n",
    "F = func((X1, X2))\n",
    "\n",
    "fig = plt.figure(figsize=(10, 8))\n",
    "ax = fig.add_subplot(111, projection=\"3d\")\n",
    "surf = ax.plot_surface(X1, X2, F, cmap=\"viridis\", edgecolor=\"none\")\n",
    "\n",
    "for i, (x, y) in enumerate(stationary_points):\n",
    "    ax.scatter(x, y, stationary_values[i], color=\"darkred\", s=50, label=f\"Stationary Point {i+1}\")\n",
    "\n",
    "fig.colorbar(surf, ax=ax, shrink=0.5, aspect=10)\n",
    "ax.set_xlabel(\"$x_1$\")\n",
    "ax.set_ylabel(\"$x_2$\")\n",
    "ax.set_zlabel(\"$f(x)$\")\n",
    "\n",
    "ax.legend(loc=\"upper left\")\n",
    "plt.savefig(\"3d_plot_1.png\", dpi=150)\n",
    "plt.show()"
   ]
  },
  {
   "cell_type": "markdown",
   "id": "6a41d635-9c81-45da-9643-9adfbd112af7",
   "metadata": {},
   "source": [
    "## Problem 2.2"
   ]
  },
  {
   "cell_type": "code",
   "execution_count": null,
   "id": "d9f5c04e-2a8c-4475-a87b-a2bb2a7673bf",
   "metadata": {},
   "outputs": [],
   "source": []
  },
  {
   "cell_type": "code",
   "execution_count": null,
   "id": "d456f8e7-a18d-443c-8bab-b8311fed29a4",
   "metadata": {},
   "outputs": [],
   "source": [
    "def stationary_point(Q, g):\n",
    "    Q_inv = np.linalg.inv(Q)\n",
    "    x_stationary = -0.5 * Q_inv @ g\n",
    "    return x_stationary\n",
    "\n",
    "\n",
    "def is_invertible(Q):\n",
    "    return np.linalg.det(Q) != 0"
   ]
  },
  {
   "cell_type": "code",
   "execution_count": null,
   "id": "30d3d7db-7ab8-4253-b7b8-addbdff5c2b9",
   "metadata": {},
   "outputs": [],
   "source": [
    "Q_q1 = np.array([[2, 2], [2, -1]])\n",
    "g_q1 = np.array([0, 6])"
   ]
  },
  {
   "cell_type": "code",
   "execution_count": null,
   "id": "c97efe0d-9efa-4669-8b8e-f7adabc685c9",
   "metadata": {},
   "outputs": [],
   "source": [
    "is_invertible(Q_q1)"
   ]
  },
  {
   "cell_type": "code",
   "execution_count": null,
   "id": "5b22c7f2-f696-4aaa-bb99-838938a5e9d2",
   "metadata": {},
   "outputs": [],
   "source": [
    "x_q1 = stationary_point(Q_q1, g_q1)\n",
    "x_q1"
   ]
  },
  {
   "cell_type": "code",
   "execution_count": null,
   "id": "5023254b-4f9b-41b7-a1e5-716c6954c683",
   "metadata": {},
   "outputs": [],
   "source": [
    "Q_q2 = np.array([[2, 2, 0], [2, 4, 3], [0, 3, 1]])\n",
    "g_q2 = np.array([4, -8, 0])"
   ]
  },
  {
   "cell_type": "code",
   "execution_count": null,
   "id": "1d4c8b50-dbf9-4d87-8fb9-68c595b73353",
   "metadata": {},
   "outputs": [],
   "source": [
    "is_invertible(Q_q2)"
   ]
  },
  {
   "cell_type": "code",
   "execution_count": null,
   "id": "28f80f85-ab1d-440c-b0a5-baf775542228",
   "metadata": {},
   "outputs": [],
   "source": [
    "x_q2 = stationary_point(Q_q2, g_q2)\n",
    "x_q2"
   ]
  },
  {
   "cell_type": "markdown",
   "id": "d4e28703-bb90-4f09-a283-eb077ebc51b4",
   "metadata": {},
   "source": [
    "## Problem 2.3"
   ]
  },
  {
   "cell_type": "code",
   "execution_count": null,
   "id": "d8bc6b81-129b-4b24-a1d8-8a73f6d8dc43",
   "metadata": {},
   "outputs": [],
   "source": [
    "eigenvalues_q1 = np.linalg.eigvals(Q_q1)\n",
    "eigenvalues_q2 = np.linalg.eigvals(Q_q2)"
   ]
  },
  {
   "cell_type": "code",
   "execution_count": null,
   "id": "e0ada3ac-c666-4cde-8fcf-b85de5838286",
   "metadata": {},
   "outputs": [],
   "source": [
    "eigenvalues_q1"
   ]
  },
  {
   "cell_type": "code",
   "execution_count": null,
   "id": "d9905e0e-0151-4463-8d53-64b118c5ce68",
   "metadata": {},
   "outputs": [],
   "source": [
    "eigenvalues_q2"
   ]
  },
  {
   "cell_type": "markdown",
   "id": "bdd26f0e-7adb-468b-90c0-ea15aee8da3e",
   "metadata": {},
   "source": [
    "## Problem 3"
   ]
  },
  {
   "cell_type": "code",
   "execution_count": null,
   "id": "a1624ab2-bbfd-49eb-b126-0c08feef0e90",
   "metadata": {},
   "outputs": [],
   "source": [
    "def f(x):\n",
    "    x1, x2 = x\n",
    "    return jnp.array([jnp.cos(x1) + x2, (x1 + x2) ** 2])\n",
    "\n",
    "\n",
    "def g(y):\n",
    "    y1, y2 = y\n",
    "    return y1**2 + y1 * y2\n",
    "\n",
    "\n",
    "def h(x):\n",
    "    return g(f(x))"
   ]
  },
  {
   "cell_type": "code",
   "execution_count": null,
   "id": "8e86a804-cdcf-42fd-82ec-4fd4b6093368",
   "metadata": {},
   "outputs": [],
   "source": [
    "grad_h = jax.grad(h)"
   ]
  },
  {
   "cell_type": "code",
   "execution_count": null,
   "id": "d4a04655-15a4-4e1a-af6a-bb3173ecbff7",
   "metadata": {},
   "outputs": [],
   "source": [
    "x_val = jnp.array([1.0, 2.0])  # Example input\n",
    "gradient = grad_h(x_val)\n",
    "\n",
    "print(\"Gradient of h(x) at x =\", x_val, \"is\", gradient)"
   ]
  },
  {
   "cell_type": "code",
   "execution_count": null,
   "id": "e164b624-0e33-4ca5-b199-bf4682522860",
   "metadata": {},
   "outputs": [],
   "source": [
    "# Manual\n",
    "def gradient_h_component1(x1, x2):\n",
    "    term1 = -np.sin(x1) * (2 * (np.cos(x1) + x2) + (x1 + x2) ** 2)\n",
    "    term2 = 2 * (x1 + x2) * (np.cos(x1) + x2)\n",
    "    return term1 + term2\n",
    "\n",
    "\n",
    "def gradient_h_component2(x1, x2):\n",
    "    term1 = 2 * (np.cos(x1) + x2) + (x1 + x2) ** 2\n",
    "    term2 = 2 * (x1 + x2) * (np.cos(x1) + x2)\n",
    "    return term1 + term2\n",
    "\n",
    "\n",
    "def gradient_h(x):\n",
    "    x1, x2 = x\n",
    "    grad1 = gradient_h_component1(x1, x2)\n",
    "    grad2 = gradient_h_component2(x1, x2)\n",
    "    return np.array([grad1, grad2])"
   ]
  },
  {
   "cell_type": "code",
   "execution_count": null,
   "id": "5af4903b-a076-4d12-9579-561f2599ea69",
   "metadata": {},
   "outputs": [],
   "source": [
    "x_val = np.array([1.0, 2.0])\n",
    "gradient = gradient_h(x_val)\n",
    "gradient"
   ]
  },
  {
   "cell_type": "code",
   "execution_count": null,
   "id": "2cf8116c-572e-4d45-845b-ffe0715e3f8a",
   "metadata": {},
   "outputs": [],
   "source": []
  }
 ],
 "metadata": {
  "kernelspec": {
   "display_name": "Python 3 (ipykernel)",
   "language": "python",
   "name": "python3"
  },
  "language_info": {
   "codemirror_mode": {
    "name": "ipython",
    "version": 3
   },
   "file_extension": ".py",
   "mimetype": "text/x-python",
   "name": "python",
   "nbconvert_exporter": "python",
   "pygments_lexer": "ipython3",
   "version": "3.9.18"
  }
 },
 "nbformat": 4,
 "nbformat_minor": 5
}
