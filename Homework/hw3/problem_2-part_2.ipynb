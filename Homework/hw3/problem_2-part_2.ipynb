{
 "cells": [
  {
   "cell_type": "markdown",
   "id": "ae8e20e8-6f7b-47da-b4e1-1c81e6dcd44e",
   "metadata": {},
   "source": [
    "### Part 2\n",
    "\n",
    "We are given the function:\n",
    "\n",
    "$$\n",
    "f(x) = \\frac{1}{2} x^2 + \\sin x + e^x\n",
    "$$"
   ]
  },
  {
   "cell_type": "code",
   "execution_count": null,
   "id": "6ab06c4b-5695-4284-bf74-781073070c47",
   "metadata": {},
   "outputs": [],
   "source": [
    "import matplotlib.pyplot as plt\n",
    "import numpy as np"
   ]
  },
  {
   "cell_type": "markdown",
   "id": "cfe5af36-804e-4464-a2d9-5844cd9888af",
   "metadata": {},
   "source": [
    "The function looks as follows. We can \"eye-ball\" a \"local minima\":"
   ]
  },
  {
   "cell_type": "code",
   "execution_count": null,
   "id": "df80232b-f407-4aaf-9494-20e4c69b69cd",
   "metadata": {},
   "outputs": [],
   "source": [
    "x = np.linspace(-2, 2, 400)\n",
    "y = (0.5 * x**2) + np.sin(x) + np.exp(x)\n",
    "\n",
    "plt.plot(x, y, \"r-\", label=r\"$f(x)$\")\n",
    "plt.scatter(-1, 0, color=\"blue\", s=10, zorder=5)\n",
    "plt.xlabel(\"x\")\n",
    "plt.ylabel(\"y\")\n",
    "plt.title(r\"Plot of $f(x) = \\frac{1}{2} x^2 + \\sin x + e^x$\")\n",
    "plt.axhline(0, color=\"gray\", lw=0.5, ls=\"--\")\n",
    "plt.axvline(-1, color=\"gray\", lw=0.5, ls=\"--\")\n",
    "plt.legend()\n",
    "plt.show()"
   ]
  },
  {
   "cell_type": "markdown",
   "id": "be4b6f5e-151a-4d7d-80e4-2d0a4ded9985",
   "metadata": {},
   "source": [
    "Finding the root using Newton's method:"
   ]
  },
  {
   "cell_type": "code",
   "execution_count": null,
   "id": "4b87b379-7207-45e3-8239-63ead6f72a5a",
   "metadata": {},
   "outputs": [],
   "source": [
    "# Define the function and its derivatives\n",
    "def f(x):\n",
    "    return (0.5 * x**2) + np.sin(x) + np.exp(x)\n",
    "\n",
    "\n",
    "def f_prime(x):\n",
    "    return x + np.cos(x) + np.exp(x)"
   ]
  },
  {
   "cell_type": "code",
   "execution_count": null,
   "id": "615ce4b1-bf04-42eb-8156-4a2b8612b542",
   "metadata": {},
   "outputs": [],
   "source": [
    "def newtons_method(x0, tol=1e-3, max_iter=100):\n",
    "    x = x0\n",
    "    for i in range(max_iter):\n",
    "        f_val = f(x)\n",
    "        f_prime_val = f_prime(x)\n",
    "        if abs(f_prime_val) <= tol:\n",
    "            return x\n",
    "        x = x - f_val / f_prime_val\n",
    "    return x"
   ]
  },
  {
   "cell_type": "code",
   "execution_count": null,
   "id": "8ec8ae7b-e81b-4787-91ab-994a12ed8963",
   "metadata": {},
   "outputs": [],
   "source": [
    "x0 = 0\n",
    "tol = 1e-3\n",
    "\n",
    "global_minimizer = newtons_method(x0, tol=tol)\n",
    "print(f\"The estimated global minimizer is: {global_minimizer}\")"
   ]
  },
  {
   "cell_type": "code",
   "execution_count": null,
   "id": "c40550de-3262-4ea6-a5b2-d7eda88e66f9",
   "metadata": {},
   "outputs": [],
   "source": []
  }
 ],
 "metadata": {
  "kernelspec": {
   "display_name": "Python 3 (ipykernel)",
   "language": "python",
   "name": "python3"
  },
  "language_info": {
   "codemirror_mode": {
    "name": "ipython",
    "version": 3
   },
   "file_extension": ".py",
   "mimetype": "text/x-python",
   "name": "python",
   "nbconvert_exporter": "python",
   "pygments_lexer": "ipython3",
   "version": "3.9.18"
  }
 },
 "nbformat": 4,
 "nbformat_minor": 5
}
